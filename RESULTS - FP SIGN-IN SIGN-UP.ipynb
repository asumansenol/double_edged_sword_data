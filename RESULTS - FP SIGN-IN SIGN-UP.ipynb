{
 "cells": [
  {
   "cell_type": "code",
   "execution_count": 114,
   "metadata": {
    "executionInfo": {
     "elapsed": 3884,
     "status": "ok",
     "timestamp": 1696888203165,
     "user": {
      "displayName": "Alisha Ukani",
      "userId": "07133445635502183845"
     },
     "user_tz": 420
    },
    "id": "ytY0DODonKLF"
   },
   "outputs": [],
   "source": [
    "import json\n",
    "import plotly.express as px\n",
    "import datetime\n",
    "import pandas as pd\n",
    "import pickle\n",
    "import os\n",
    "import numpy as np\n",
    "import ast\n",
    "import threading\n",
    "import requests\n",
    "from matplotlib import pyplot as plt\n",
    "from sklearn.metrics import confusion_matrix\n",
    "from sklearn.metrics import classification_report\n",
    "from scipy.stats import ttest_ind\n",
    "from tldextract import extract"
   ]
  },
  {
   "cell_type": "code",
   "execution_count": 115,
   "metadata": {},
   "outputs": [
    {
     "name": "stdout",
     "output_type": "stream",
     "text": [
      "Requirement already satisfied: np_utils in /home/asenol/.local/lib/python3.8/site-packages (0.6.0)\n",
      "Requirement already satisfied: numpy>=1.0 in /usr/local/lib/python3.8/dist-packages (from np_utils) (1.21.2)\n",
      "Note: you may need to restart the kernel to use updated packages.\n"
     ]
    }
   ],
   "source": [
    "pip install np_utils"
   ]
  },
  {
   "cell_type": "code",
   "execution_count": 156,
   "metadata": {
    "executionInfo": {
     "elapsed": 3341,
     "status": "ok",
     "timestamp": 1696889573111,
     "user": {
      "displayName": "Alisha Ukani",
      "userId": "07133445635502183845"
     },
     "user_tz": 420
    },
    "id": "zCBE8g4qtbdf"
   },
   "outputs": [],
   "source": [
    "crawl_resuls_df = pd.read_csv('csvs/2023_08_25_top_100k_crawl_res_df.csv')"
   ]
  },
  {
   "cell_type": "code",
   "execution_count": 154,
   "metadata": {},
   "outputs": [],
   "source": [
    "#crawl_resuls_df=crawl_resuls_df.drop(['init_url', 'screenshot_path'], axis=1)"
   ]
  },
  {
   "cell_type": "code",
   "execution_count": 148,
   "metadata": {},
   "outputs": [],
   "source": [
    "#crawl_resuls_df = crawl_resuls_df.iloc[:, 1:]"
   ]
  },
  {
   "cell_type": "code",
   "execution_count": 155,
   "metadata": {},
   "outputs": [],
   "source": [
    "#crawl_resuls_df.to_csv('csvs/2023_08_25_top_100k_crawl_res_df.csv',index=False)"
   ]
  },
  {
   "cell_type": "code",
   "execution_count": 141,
   "metadata": {},
   "outputs": [
    {
     "data": {
      "text/html": [
       "<div>\n",
       "<style scoped>\n",
       "    .dataframe tbody tr th:only-of-type {\n",
       "        vertical-align: middle;\n",
       "    }\n",
       "\n",
       "    .dataframe tbody tr th {\n",
       "        vertical-align: top;\n",
       "    }\n",
       "\n",
       "    .dataframe thead th {\n",
       "        text-align: right;\n",
       "    }\n",
       "</style>\n",
       "<table border=\"1\" class=\"dataframe\">\n",
       "  <thead>\n",
       "    <tr style=\"text-align: right;\">\n",
       "      <th></th>\n",
       "      <th>init_url</th>\n",
       "      <th>final_url</th>\n",
       "      <th>fathom_login</th>\n",
       "      <th>fathom_signup</th>\n",
       "      <th>cookie_hunter_login</th>\n",
       "      <th>cookie_hunter_signup</th>\n",
       "      <th>autofill_login</th>\n",
       "      <th>autofill_signup</th>\n",
       "      <th>screenshot_path</th>\n",
       "      <th>is_homepage</th>\n",
       "      <th>is_innerpage</th>\n",
       "      <th>ml_login</th>\n",
       "      <th>ml_signup</th>\n",
       "    </tr>\n",
       "  </thead>\n",
       "  <tbody>\n",
       "    <tr>\n",
       "      <th>0</th>\n",
       "      <td>http://blog.cookaround.com/community/crea-blog...</td>\n",
       "      <td>https://blog.cookaround.com/community/crea-blo...</td>\n",
       "      <td>False</td>\n",
       "      <td>False</td>\n",
       "      <td>False</td>\n",
       "      <td>False</td>\n",
       "      <td>False</td>\n",
       "      <td>False</td>\n",
       "      <td>blog.cookaround.com_20bf.jpg</td>\n",
       "      <td>False</td>\n",
       "      <td>True</td>\n",
       "      <td>False</td>\n",
       "      <td>False</td>\n",
       "    </tr>\n",
       "    <tr>\n",
       "      <th>1</th>\n",
       "      <td>https://www.unegui.mn/adv/7572341_suzuki-jimny...</td>\n",
       "      <td>https://www.unegui.mn/adv/7572341_suzuki-jimny...</td>\n",
       "      <td>False</td>\n",
       "      <td>False</td>\n",
       "      <td>False</td>\n",
       "      <td>False</td>\n",
       "      <td>False</td>\n",
       "      <td>False</td>\n",
       "      <td>www.unegui.mn_a2f2.jpg</td>\n",
       "      <td>False</td>\n",
       "      <td>True</td>\n",
       "      <td>False</td>\n",
       "      <td>False</td>\n",
       "    </tr>\n",
       "    <tr>\n",
       "      <th>2</th>\n",
       "      <td>https://pinayot.com/#wpst-login</td>\n",
       "      <td>https://pinayot.com/#wpst-login</td>\n",
       "      <td>False</td>\n",
       "      <td>False</td>\n",
       "      <td>False</td>\n",
       "      <td>False</td>\n",
       "      <td>True</td>\n",
       "      <td>False</td>\n",
       "      <td>pinayot.com_c398.jpg</td>\n",
       "      <td>False</td>\n",
       "      <td>True</td>\n",
       "      <td>False</td>\n",
       "      <td>False</td>\n",
       "    </tr>\n",
       "    <tr>\n",
       "      <th>3</th>\n",
       "      <td>https://accessmedicina.mhmedical.com/cases.aspx</td>\n",
       "      <td>https://accessmedicina.mhmedical.com/cases.asp...</td>\n",
       "      <td>False</td>\n",
       "      <td>True</td>\n",
       "      <td>True</td>\n",
       "      <td>False</td>\n",
       "      <td>True</td>\n",
       "      <td>False</td>\n",
       "      <td>accessmedicina.mhmedical.com_d9bf.jpg</td>\n",
       "      <td>False</td>\n",
       "      <td>True</td>\n",
       "      <td>True</td>\n",
       "      <td>False</td>\n",
       "    </tr>\n",
       "    <tr>\n",
       "      <th>4</th>\n",
       "      <td>https://www.edinos.pl/zaloguj</td>\n",
       "      <td>https://www.edinos.pl/zaloguj</td>\n",
       "      <td>False</td>\n",
       "      <td>True</td>\n",
       "      <td>False</td>\n",
       "      <td>False</td>\n",
       "      <td>True</td>\n",
       "      <td>False</td>\n",
       "      <td>www.edinos.pl_e0b4.jpg</td>\n",
       "      <td>False</td>\n",
       "      <td>True</td>\n",
       "      <td>False</td>\n",
       "      <td>True</td>\n",
       "    </tr>\n",
       "    <tr>\n",
       "      <th>...</th>\n",
       "      <td>...</td>\n",
       "      <td>...</td>\n",
       "      <td>...</td>\n",
       "      <td>...</td>\n",
       "      <td>...</td>\n",
       "      <td>...</td>\n",
       "      <td>...</td>\n",
       "      <td>...</td>\n",
       "      <td>...</td>\n",
       "      <td>...</td>\n",
       "      <td>...</td>\n",
       "      <td>...</td>\n",
       "      <td>...</td>\n",
       "    </tr>\n",
       "    <tr>\n",
       "      <th>541165</th>\n",
       "      <td>https://cl.linkedin.com/</td>\n",
       "      <td>https://cl.linkedin.com/</td>\n",
       "      <td>True</td>\n",
       "      <td>False</td>\n",
       "      <td>True</td>\n",
       "      <td>False</td>\n",
       "      <td>True</td>\n",
       "      <td>False</td>\n",
       "      <td>cl.linkedin.com_6bc8.jpg</td>\n",
       "      <td>True</td>\n",
       "      <td>False</td>\n",
       "      <td>True</td>\n",
       "      <td>False</td>\n",
       "    </tr>\n",
       "    <tr>\n",
       "      <th>541166</th>\n",
       "      <td>https://netatopi.jp/</td>\n",
       "      <td>https://netatopi.jp/</td>\n",
       "      <td>False</td>\n",
       "      <td>False</td>\n",
       "      <td>False</td>\n",
       "      <td>False</td>\n",
       "      <td>False</td>\n",
       "      <td>False</td>\n",
       "      <td>netatopi.jp_d2d2.jpg</td>\n",
       "      <td>True</td>\n",
       "      <td>False</td>\n",
       "      <td>False</td>\n",
       "      <td>False</td>\n",
       "    </tr>\n",
       "    <tr>\n",
       "      <th>541167</th>\n",
       "      <td>https://humanidades.uasd.edu.do/</td>\n",
       "      <td>https://soft.uasd.edu.do/UASDVirtualGateway/</td>\n",
       "      <td>False</td>\n",
       "      <td>True</td>\n",
       "      <td>True</td>\n",
       "      <td>False</td>\n",
       "      <td>True</td>\n",
       "      <td>False</td>\n",
       "      <td>humanidades.uasd.edu.do_952b.jpg</td>\n",
       "      <td>True</td>\n",
       "      <td>False</td>\n",
       "      <td>True</td>\n",
       "      <td>False</td>\n",
       "    </tr>\n",
       "    <tr>\n",
       "      <th>541168</th>\n",
       "      <td>https://www.profesionalreview.com/</td>\n",
       "      <td>https://www.profesionalreview.com/</td>\n",
       "      <td>False</td>\n",
       "      <td>False</td>\n",
       "      <td>False</td>\n",
       "      <td>False</td>\n",
       "      <td>False</td>\n",
       "      <td>False</td>\n",
       "      <td>www.profesionalreview.com_4d41.jpg</td>\n",
       "      <td>True</td>\n",
       "      <td>False</td>\n",
       "      <td>False</td>\n",
       "      <td>False</td>\n",
       "    </tr>\n",
       "    <tr>\n",
       "      <th>541169</th>\n",
       "      <td>https://www.zvw.de/</td>\n",
       "      <td>https://www.zvw.de/</td>\n",
       "      <td>False</td>\n",
       "      <td>False</td>\n",
       "      <td>False</td>\n",
       "      <td>False</td>\n",
       "      <td>True</td>\n",
       "      <td>False</td>\n",
       "      <td>www.zvw.de_ef43.jpg</td>\n",
       "      <td>True</td>\n",
       "      <td>False</td>\n",
       "      <td>False</td>\n",
       "      <td>False</td>\n",
       "    </tr>\n",
       "  </tbody>\n",
       "</table>\n",
       "<p>541170 rows × 13 columns</p>\n",
       "</div>"
      ],
      "text/plain": [
       "                                                 init_url  \\\n",
       "0       http://blog.cookaround.com/community/crea-blog...   \n",
       "1       https://www.unegui.mn/adv/7572341_suzuki-jimny...   \n",
       "2                         https://pinayot.com/#wpst-login   \n",
       "3         https://accessmedicina.mhmedical.com/cases.aspx   \n",
       "4                           https://www.edinos.pl/zaloguj   \n",
       "...                                                   ...   \n",
       "541165                           https://cl.linkedin.com/   \n",
       "541166                               https://netatopi.jp/   \n",
       "541167                   https://humanidades.uasd.edu.do/   \n",
       "541168                 https://www.profesionalreview.com/   \n",
       "541169                                https://www.zvw.de/   \n",
       "\n",
       "                                                final_url  fathom_login  \\\n",
       "0       https://blog.cookaround.com/community/crea-blo...         False   \n",
       "1       https://www.unegui.mn/adv/7572341_suzuki-jimny...         False   \n",
       "2                         https://pinayot.com/#wpst-login         False   \n",
       "3       https://accessmedicina.mhmedical.com/cases.asp...         False   \n",
       "4                           https://www.edinos.pl/zaloguj         False   \n",
       "...                                                   ...           ...   \n",
       "541165                           https://cl.linkedin.com/          True   \n",
       "541166                               https://netatopi.jp/         False   \n",
       "541167       https://soft.uasd.edu.do/UASDVirtualGateway/         False   \n",
       "541168                 https://www.profesionalreview.com/         False   \n",
       "541169                                https://www.zvw.de/         False   \n",
       "\n",
       "        fathom_signup  cookie_hunter_login  cookie_hunter_signup  \\\n",
       "0               False                False                 False   \n",
       "1               False                False                 False   \n",
       "2               False                False                 False   \n",
       "3                True                 True                 False   \n",
       "4                True                False                 False   \n",
       "...               ...                  ...                   ...   \n",
       "541165          False                 True                 False   \n",
       "541166          False                False                 False   \n",
       "541167           True                 True                 False   \n",
       "541168          False                False                 False   \n",
       "541169          False                False                 False   \n",
       "\n",
       "        autofill_login  autofill_signup  \\\n",
       "0                False            False   \n",
       "1                False            False   \n",
       "2                 True            False   \n",
       "3                 True            False   \n",
       "4                 True            False   \n",
       "...                ...              ...   \n",
       "541165            True            False   \n",
       "541166           False            False   \n",
       "541167            True            False   \n",
       "541168           False            False   \n",
       "541169            True            False   \n",
       "\n",
       "                              screenshot_path  is_homepage  is_innerpage  \\\n",
       "0                blog.cookaround.com_20bf.jpg        False          True   \n",
       "1                      www.unegui.mn_a2f2.jpg        False          True   \n",
       "2                        pinayot.com_c398.jpg        False          True   \n",
       "3       accessmedicina.mhmedical.com_d9bf.jpg        False          True   \n",
       "4                      www.edinos.pl_e0b4.jpg        False          True   \n",
       "...                                       ...          ...           ...   \n",
       "541165               cl.linkedin.com_6bc8.jpg         True         False   \n",
       "541166                   netatopi.jp_d2d2.jpg         True         False   \n",
       "541167       humanidades.uasd.edu.do_952b.jpg         True         False   \n",
       "541168     www.profesionalreview.com_4d41.jpg         True         False   \n",
       "541169                    www.zvw.de_ef43.jpg         True         False   \n",
       "\n",
       "        ml_login  ml_signup  \n",
       "0          False      False  \n",
       "1          False      False  \n",
       "2          False      False  \n",
       "3           True      False  \n",
       "4          False       True  \n",
       "...          ...        ...  \n",
       "541165      True      False  \n",
       "541166     False      False  \n",
       "541167      True      False  \n",
       "541168     False      False  \n",
       "541169     False      False  \n",
       "\n",
       "[541170 rows x 13 columns]"
      ]
     },
     "execution_count": 141,
     "metadata": {},
     "output_type": "execute_result"
    }
   ],
   "source": [
    "#crawl_resuls_df.iloc[:, 1:]"
   ]
  },
  {
   "cell_type": "code",
   "execution_count": 162,
   "metadata": {
    "executionInfo": {
     "elapsed": 1434,
     "status": "ok",
     "timestamp": 1696889574541,
     "user": {
      "displayName": "Alisha Ukani",
      "userId": "07133445635502183845"
     },
     "user_tz": 420
    },
    "id": "Xn9o-BvEDUT1"
   },
   "outputs": [
    {
     "name": "stderr",
     "output_type": "stream",
     "text": [
      "/usr/lib/python3/dist-packages/IPython/core/interactiveshell.py:3331: DtypeWarning: Columns (1,8,9,10,12) have mixed types.Specify dtype option on import or set low_memory=False.\n",
      "  exec(code_obj, self.user_global_ns, self.user_ns)\n"
     ]
    }
   ],
   "source": [
    "fps_attempts_df = pd.read_csv('csvs/2023_08_25_top_100k_fps.csv')"
   ]
  },
  {
   "cell_type": "code",
   "execution_count": 168,
   "metadata": {
    "executionInfo": {
     "elapsed": 2009,
     "status": "ok",
     "timestamp": 1696889576547,
     "user": {
      "displayName": "Alisha Ukani",
      "userId": "07133445635502183845"
     },
     "user_tz": 420
    },
    "id": "rprP86vWiq4H"
   },
   "outputs": [],
   "source": [
    "inner_links_df = pd.read_csv('csvs/inner_links.csv')"
   ]
  },
  {
   "cell_type": "code",
   "execution_count": 113,
   "metadata": {
    "executionInfo": {
     "elapsed": 607,
     "status": "ok",
     "timestamp": 1696889577151,
     "user": {
      "displayName": "Alisha Ukani",
      "userId": "07133445635502183845"
     },
     "user_tz": 420
    },
    "id": "GCb0T6C-wPrn"
   },
   "outputs": [],
   "source": [
    "ranks = pd.read_csv(\"csvs/crux_fqdn_top_100k_202304_with_rank.csv\")"
   ]
  },
  {
   "cell_type": "code",
   "execution_count": 6,
   "metadata": {
    "executionInfo": {
     "elapsed": 6,
     "status": "ok",
     "timestamp": 1696889577152,
     "user": {
      "displayName": "Alisha Ukani",
      "userId": "07133445635502183845"
     },
     "user_tz": 420
    },
    "id": "mBlL_2gm1pmC"
   },
   "outputs": [],
   "source": [
    "# matplotlib config\n",
    "plt.rcParams['font.family'] = 'sans-serif'\n",
    "plt.rcParams['pdf.fonttype'] = 42\n",
    "plt.rcParams['ps.fonttype'] = 42"
   ]
  },
  {
   "cell_type": "code",
   "execution_count": 7,
   "metadata": {
    "executionInfo": {
     "elapsed": 4,
     "status": "ok",
     "timestamp": 1696889577152,
     "user": {
      "displayName": "Alisha Ukani",
      "userId": "07133445635502183845"
     },
     "user_tz": 420
    },
    "id": "-uW6GAjhCLga"
   },
   "outputs": [],
   "source": [
    "def get_hostname(url):\n",
    "    res = extract(url)\n",
    "    domain = res.registered_domain\n",
    "    if domain is None or domain == \"\":\n",
    "        return res.suffix\n",
    "    return domain"
   ]
  },
  {
   "cell_type": "markdown",
   "metadata": {
    "id": "EF2Gh_PL3DBR"
   },
   "source": [
    "# Crawl Statistics:"
   ]
  },
  {
   "cell_type": "code",
   "execution_count": 8,
   "metadata": {
    "id": "7VWNVuGQ3Bm_"
   },
   "outputs": [],
   "source": [
    "TOTAL_NUM_SUCC_SITES = len(crawl_resuls_df)"
   ]
  },
  {
   "cell_type": "code",
   "execution_count": 9,
   "metadata": {
    "id": "n8iRSxiMs4yf"
   },
   "outputs": [],
   "source": [
    "TOTAL_NUM_HOMEPAGE_SUCC_VISITED = 94482"
   ]
  },
  {
   "cell_type": "code",
   "execution_count": 10,
   "metadata": {
    "id": "ovZjrJgBtFiD"
   },
   "outputs": [],
   "source": [
    "TOTAL_NUM_INNERPAGE_SUCC_VISITED = 446688"
   ]
  },
  {
   "cell_type": "code",
   "execution_count": 11,
   "metadata": {
    "id": "X9NGqCGD3GmA"
   },
   "outputs": [],
   "source": [
    "TOTAL_NUM_VISITED_SITES = 474436 + 98845"
   ]
  },
  {
   "cell_type": "markdown",
   "metadata": {
    "id": "GjO_zzxd6gHz"
   },
   "source": [
    "# Login Signup Classification Comparison"
   ]
  },
  {
   "cell_type": "markdown",
   "metadata": {
    "id": "HBTkviYwgPev"
   },
   "source": [
    "All Classifier Results"
   ]
  },
  {
   "cell_type": "code",
   "execution_count": 12,
   "metadata": {
    "colab": {
     "base_uri": "https://localhost:8080/",
     "height": 244
    },
    "executionInfo": {
     "elapsed": 27,
     "status": "ok",
     "timestamp": 1696256269539,
     "user": {
      "displayName": "Asuman Senol",
      "userId": "06248440131549996568"
     },
     "user_tz": -120
    },
    "id": "NOFTrCED8tv6",
    "outputId": "fcf3d630-cbb9-41d6-a7e4-b02e33f6ca5b"
   },
   "outputs": [
    {
     "data": {
      "text/html": [
       "<div>\n",
       "<style scoped>\n",
       "    .dataframe tbody tr th:only-of-type {\n",
       "        vertical-align: middle;\n",
       "    }\n",
       "\n",
       "    .dataframe tbody tr th {\n",
       "        vertical-align: top;\n",
       "    }\n",
       "\n",
       "    .dataframe thead th {\n",
       "        text-align: right;\n",
       "    }\n",
       "</style>\n",
       "<table border=\"1\" class=\"dataframe\">\n",
       "  <thead>\n",
       "    <tr style=\"text-align: right;\">\n",
       "      <th></th>\n",
       "      <th>Unnamed: 0</th>\n",
       "      <th>init_url</th>\n",
       "      <th>final_url</th>\n",
       "      <th>fathom_login</th>\n",
       "      <th>fathom_signup</th>\n",
       "      <th>cookie_hunter_login</th>\n",
       "      <th>cookie_hunter_signup</th>\n",
       "      <th>autofill_login</th>\n",
       "      <th>autofill_signup</th>\n",
       "      <th>screenshot_path</th>\n",
       "      <th>is_homepage</th>\n",
       "      <th>is_innerpage</th>\n",
       "      <th>ml_login</th>\n",
       "      <th>ml_signup</th>\n",
       "    </tr>\n",
       "  </thead>\n",
       "  <tbody>\n",
       "    <tr>\n",
       "      <th>0</th>\n",
       "      <td>0</td>\n",
       "      <td>http://blog.cookaround.com/community/crea-blog...</td>\n",
       "      <td>https://blog.cookaround.com/community/crea-blo...</td>\n",
       "      <td>False</td>\n",
       "      <td>False</td>\n",
       "      <td>False</td>\n",
       "      <td>False</td>\n",
       "      <td>False</td>\n",
       "      <td>False</td>\n",
       "      <td>blog.cookaround.com_20bf.jpg</td>\n",
       "      <td>False</td>\n",
       "      <td>True</td>\n",
       "      <td>False</td>\n",
       "      <td>False</td>\n",
       "    </tr>\n",
       "    <tr>\n",
       "      <th>1</th>\n",
       "      <td>1</td>\n",
       "      <td>https://www.unegui.mn/adv/7572341_suzuki-jimny...</td>\n",
       "      <td>https://www.unegui.mn/adv/7572341_suzuki-jimny...</td>\n",
       "      <td>False</td>\n",
       "      <td>False</td>\n",
       "      <td>False</td>\n",
       "      <td>False</td>\n",
       "      <td>False</td>\n",
       "      <td>False</td>\n",
       "      <td>www.unegui.mn_a2f2.jpg</td>\n",
       "      <td>False</td>\n",
       "      <td>True</td>\n",
       "      <td>False</td>\n",
       "      <td>False</td>\n",
       "    </tr>\n",
       "    <tr>\n",
       "      <th>2</th>\n",
       "      <td>2</td>\n",
       "      <td>https://pinayot.com/#wpst-login</td>\n",
       "      <td>https://pinayot.com/#wpst-login</td>\n",
       "      <td>False</td>\n",
       "      <td>False</td>\n",
       "      <td>False</td>\n",
       "      <td>False</td>\n",
       "      <td>True</td>\n",
       "      <td>False</td>\n",
       "      <td>pinayot.com_c398.jpg</td>\n",
       "      <td>False</td>\n",
       "      <td>True</td>\n",
       "      <td>False</td>\n",
       "      <td>False</td>\n",
       "    </tr>\n",
       "    <tr>\n",
       "      <th>3</th>\n",
       "      <td>3</td>\n",
       "      <td>https://accessmedicina.mhmedical.com/cases.aspx</td>\n",
       "      <td>https://accessmedicina.mhmedical.com/cases.asp...</td>\n",
       "      <td>False</td>\n",
       "      <td>True</td>\n",
       "      <td>True</td>\n",
       "      <td>False</td>\n",
       "      <td>True</td>\n",
       "      <td>False</td>\n",
       "      <td>accessmedicina.mhmedical.com_d9bf.jpg</td>\n",
       "      <td>False</td>\n",
       "      <td>True</td>\n",
       "      <td>True</td>\n",
       "      <td>False</td>\n",
       "    </tr>\n",
       "    <tr>\n",
       "      <th>4</th>\n",
       "      <td>4</td>\n",
       "      <td>https://www.edinos.pl/zaloguj</td>\n",
       "      <td>https://www.edinos.pl/zaloguj</td>\n",
       "      <td>False</td>\n",
       "      <td>True</td>\n",
       "      <td>False</td>\n",
       "      <td>False</td>\n",
       "      <td>True</td>\n",
       "      <td>False</td>\n",
       "      <td>www.edinos.pl_e0b4.jpg</td>\n",
       "      <td>False</td>\n",
       "      <td>True</td>\n",
       "      <td>False</td>\n",
       "      <td>True</td>\n",
       "    </tr>\n",
       "  </tbody>\n",
       "</table>\n",
       "</div>"
      ],
      "text/plain": [
       "   Unnamed: 0                                           init_url  \\\n",
       "0           0  http://blog.cookaround.com/community/crea-blog...   \n",
       "1           1  https://www.unegui.mn/adv/7572341_suzuki-jimny...   \n",
       "2           2                    https://pinayot.com/#wpst-login   \n",
       "3           3    https://accessmedicina.mhmedical.com/cases.aspx   \n",
       "4           4                      https://www.edinos.pl/zaloguj   \n",
       "\n",
       "                                           final_url  fathom_login  \\\n",
       "0  https://blog.cookaround.com/community/crea-blo...         False   \n",
       "1  https://www.unegui.mn/adv/7572341_suzuki-jimny...         False   \n",
       "2                    https://pinayot.com/#wpst-login         False   \n",
       "3  https://accessmedicina.mhmedical.com/cases.asp...         False   \n",
       "4                      https://www.edinos.pl/zaloguj         False   \n",
       "\n",
       "   fathom_signup  cookie_hunter_login  cookie_hunter_signup  autofill_login  \\\n",
       "0          False                False                 False           False   \n",
       "1          False                False                 False           False   \n",
       "2          False                False                 False            True   \n",
       "3           True                 True                 False            True   \n",
       "4           True                False                 False            True   \n",
       "\n",
       "   autofill_signup                        screenshot_path  is_homepage  \\\n",
       "0            False           blog.cookaround.com_20bf.jpg        False   \n",
       "1            False                 www.unegui.mn_a2f2.jpg        False   \n",
       "2            False                   pinayot.com_c398.jpg        False   \n",
       "3            False  accessmedicina.mhmedical.com_d9bf.jpg        False   \n",
       "4            False                 www.edinos.pl_e0b4.jpg        False   \n",
       "\n",
       "   is_innerpage  ml_login  ml_signup  \n",
       "0          True     False      False  \n",
       "1          True     False      False  \n",
       "2          True     False      False  \n",
       "3          True      True      False  \n",
       "4          True     False       True  "
      ]
     },
     "execution_count": 12,
     "metadata": {},
     "output_type": "execute_result"
    }
   ],
   "source": [
    "crawl_resuls_df.head()"
   ]
  },
  {
   "cell_type": "markdown",
   "metadata": {
    "id": "ZbWYPV4T9QC8"
   },
   "source": [
    "Login Detection"
   ]
  },
  {
   "cell_type": "code",
   "execution_count": 13,
   "metadata": {
    "colab": {
     "base_uri": "https://localhost:8080/"
    },
    "executionInfo": {
     "elapsed": 5865,
     "status": "ok",
     "timestamp": 1696261176458,
     "user": {
      "displayName": "Asuman Senol",
      "userId": "06248440131549996568"
     },
     "user_tz": -120
    },
    "id": "uTc2W3TK8mWb",
    "outputId": "00481fdb-bcdc-48ce-e3a6-ef29fa63cf45"
   },
   "outputs": [
    {
     "name": "stdout",
     "output_type": "stream",
     "text": [
      "Fathom detected login form 52307 sites.\n"
     ]
    }
   ],
   "source": [
    "print(f'Fathom detected login form {crawl_resuls_df[(crawl_resuls_df.fathom_login)].final_url.nunique()} sites.')"
   ]
  },
  {
   "cell_type": "code",
   "execution_count": 14,
   "metadata": {
    "colab": {
     "base_uri": "https://localhost:8080/"
    },
    "executionInfo": {
     "elapsed": 348,
     "status": "ok",
     "timestamp": 1696256341816,
     "user": {
      "displayName": "Asuman Senol",
      "userId": "06248440131549996568"
     },
     "user_tz": -120
    },
    "id": "8usmSsnK8pbT",
    "outputId": "a80c29c5-93c7-4f3b-e1a2-0b55e4e9ec59"
   },
   "outputs": [
    {
     "name": "stdout",
     "output_type": "stream",
     "text": [
      "Cookie hunter heuristics detected login form on 42375 sites.\n"
     ]
    }
   ],
   "source": [
    "print(f'Cookie hunter heuristics detected login form on {crawl_resuls_df[(crawl_resuls_df.cookie_hunter_login)].final_url.nunique()} sites.')"
   ]
  },
  {
   "cell_type": "code",
   "execution_count": 15,
   "metadata": {
    "colab": {
     "base_uri": "https://localhost:8080/"
    },
    "executionInfo": {
     "elapsed": 422,
     "status": "ok",
     "timestamp": 1696256342234,
     "user": {
      "displayName": "Asuman Senol",
      "userId": "06248440131549996568"
     },
     "user_tz": -120
    },
    "id": "Ezq6VrZm85VP",
    "outputId": "26274dae-9b94-4bef-e04d-edf3c67ab83f"
   },
   "outputs": [
    {
     "name": "stdout",
     "output_type": "stream",
     "text": [
      "Autofill detected login form on 91220 sites.\n"
     ]
    }
   ],
   "source": [
    "print(f'Autofill detected login form on {crawl_resuls_df[(crawl_resuls_df.autofill_login)].final_url.nunique()} sites.')"
   ]
  },
  {
   "cell_type": "code",
   "execution_count": 16,
   "metadata": {
    "colab": {
     "base_uri": "https://localhost:8080/"
    },
    "executionInfo": {
     "elapsed": 4,
     "status": "ok",
     "timestamp": 1696256342866,
     "user": {
      "displayName": "Asuman Senol",
      "userId": "06248440131549996568"
     },
     "user_tz": -120
    },
    "id": "Syb9w9p389Jw",
    "outputId": "6b3bd0d1-c28a-45dc-ac58-863bdcbcef89"
   },
   "outputs": [
    {
     "name": "stdout",
     "output_type": "stream",
     "text": [
      "ML detected login form on homepages 9147 sites.\n"
     ]
    }
   ],
   "source": [
    "print(f'ML detected login form on homepages {crawl_resuls_df[(crawl_resuls_df.ml_login)&(crawl_resuls_df.is_homepage)].final_url.nunique()} sites.')"
   ]
  },
  {
   "cell_type": "code",
   "execution_count": 17,
   "metadata": {
    "colab": {
     "base_uri": "https://localhost:8080/"
    },
    "executionInfo": {
     "elapsed": 3,
     "status": "ok",
     "timestamp": 1696256342866,
     "user": {
      "displayName": "Asuman Senol",
      "userId": "06248440131549996568"
     },
     "user_tz": -120
    },
    "id": "5GWJdfVWSfXn",
    "outputId": "0ea5556d-1285-4068-9b35-78f8f8ff61ff"
   },
   "outputs": [
    {
     "name": "stdout",
     "output_type": "stream",
     "text": [
      "ML detected login form on inner pages 45032 sites.\n"
     ]
    }
   ],
   "source": [
    "print(f'ML detected login form on inner pages {crawl_resuls_df[(crawl_resuls_df.ml_login)&(crawl_resuls_df.is_innerpage)].final_url.nunique()} sites.')"
   ]
  },
  {
   "cell_type": "code",
   "execution_count": 18,
   "metadata": {
    "colab": {
     "base_uri": "https://localhost:8080/"
    },
    "executionInfo": {
     "elapsed": 2,
     "status": "ok",
     "timestamp": 1696256343134,
     "user": {
      "displayName": "Asuman Senol",
      "userId": "06248440131549996568"
     },
     "user_tz": -120
    },
    "id": "1fntfFadQhbj",
    "outputId": "cfb0c24e-90c7-449a-dd11-1d02053f200d"
   },
   "outputs": [
    {
     "data": {
      "text/plain": [
       "52805"
      ]
     },
     "execution_count": 18,
     "metadata": {},
     "output_type": "execute_result"
    }
   ],
   "source": [
    "crawl_resuls_df[crawl_resuls_df.ml_login].final_url.nunique()"
   ]
  },
  {
   "cell_type": "markdown",
   "metadata": {
    "id": "cAIrOjVm9Z_M"
   },
   "source": [
    "## Signup Detection"
   ]
  },
  {
   "cell_type": "code",
   "execution_count": 19,
   "metadata": {
    "colab": {
     "base_uri": "https://localhost:8080/"
    },
    "executionInfo": {
     "elapsed": 4,
     "status": "ok",
     "timestamp": 1696256343768,
     "user": {
      "displayName": "Asuman Senol",
      "userId": "06248440131549996568"
     },
     "user_tz": -120
    },
    "id": "pCI5fHnN9cOA",
    "outputId": "ce235ef1-ec38-4a95-f4a8-7962e7604444"
   },
   "outputs": [
    {
     "name": "stdout",
     "output_type": "stream",
     "text": [
      "Fathom detected signup form on 138639 sites.\n"
     ]
    }
   ],
   "source": [
    "print(f'Fathom detected signup form on {crawl_resuls_df[(crawl_resuls_df.fathom_signup)].final_url.nunique()} sites.')"
   ]
  },
  {
   "cell_type": "code",
   "execution_count": 20,
   "metadata": {
    "colab": {
     "base_uri": "https://localhost:8080/"
    },
    "executionInfo": {
     "elapsed": 3,
     "status": "ok",
     "timestamp": 1696256343768,
     "user": {
      "displayName": "Asuman Senol",
      "userId": "06248440131549996568"
     },
     "user_tz": -120
    },
    "id": "0IrvATDO9e9k",
    "outputId": "6591d707-d3e1-458a-d8f9-83d24bf32a52"
   },
   "outputs": [
    {
     "name": "stdout",
     "output_type": "stream",
     "text": [
      "Cookie hunter heuristics detected signup form on 17517 sites.\n"
     ]
    }
   ],
   "source": [
    "print(f'Cookie hunter heuristics detected signup form on {crawl_resuls_df[(crawl_resuls_df.cookie_hunter_signup)].final_url.nunique()} sites.')"
   ]
  },
  {
   "cell_type": "code",
   "execution_count": 21,
   "metadata": {
    "colab": {
     "base_uri": "https://localhost:8080/"
    },
    "executionInfo": {
     "elapsed": 2,
     "status": "ok",
     "timestamp": 1696256344471,
     "user": {
      "displayName": "Asuman Senol",
      "userId": "06248440131549996568"
     },
     "user_tz": -120
    },
    "id": "H8B1sLWJ9hhI",
    "outputId": "76358482-252f-4f15-88c5-77b3b72261fa"
   },
   "outputs": [
    {
     "name": "stdout",
     "output_type": "stream",
     "text": [
      "Autofill detected signup form on 31103 sites.\n"
     ]
    }
   ],
   "source": [
    "print(f'Autofill detected signup form on {crawl_resuls_df[(crawl_resuls_df.autofill_signup)].final_url.nunique()} sites.')"
   ]
  },
  {
   "cell_type": "code",
   "execution_count": 22,
   "metadata": {
    "colab": {
     "base_uri": "https://localhost:8080/"
    },
    "executionInfo": {
     "elapsed": 5,
     "status": "ok",
     "timestamp": 1696256344757,
     "user": {
      "displayName": "Asuman Senol",
      "userId": "06248440131549996568"
     },
     "user_tz": -120
    },
    "id": "QvDSB3BL9lJD",
    "outputId": "50d031c7-6866-451a-d5b6-c8df817079f4"
   },
   "outputs": [
    {
     "name": "stdout",
     "output_type": "stream",
     "text": [
      "ML detected signup form on homepages 1523 sites.\n"
     ]
    }
   ],
   "source": [
    "print(f'ML detected signup form on homepages {crawl_resuls_df[(crawl_resuls_df.ml_signup)&(crawl_resuls_df.is_homepage)].final_url.nunique()} sites.')"
   ]
  },
  {
   "cell_type": "code",
   "execution_count": 23,
   "metadata": {
    "colab": {
     "base_uri": "https://localhost:8080/"
    },
    "executionInfo": {
     "elapsed": 4,
     "status": "ok",
     "timestamp": 1696256344757,
     "user": {
      "displayName": "Asuman Senol",
      "userId": "06248440131549996568"
     },
     "user_tz": -120
    },
    "id": "67OFdjeFUDBa",
    "outputId": "76682110-d202-4093-d407-d471eb9fe1cc"
   },
   "outputs": [
    {
     "name": "stdout",
     "output_type": "stream",
     "text": [
      "ML detected signup form on inner pages 20684 sites.\n"
     ]
    }
   ],
   "source": [
    "print(f'ML detected signup form on inner pages {crawl_resuls_df[(crawl_resuls_df.ml_signup)&(crawl_resuls_df.is_innerpage)].final_url.nunique()} sites.')"
   ]
  },
  {
   "cell_type": "code",
   "execution_count": 24,
   "metadata": {
    "colab": {
     "base_uri": "https://localhost:8080/"
    },
    "executionInfo": {
     "elapsed": 4,
     "status": "ok",
     "timestamp": 1696256345006,
     "user": {
      "displayName": "Asuman Senol",
      "userId": "06248440131549996568"
     },
     "user_tz": -120
    },
    "id": "Jw7hog04QU5i",
    "outputId": "f935abd5-bc80-410f-80f7-4151e633fa67"
   },
   "outputs": [
    {
     "data": {
      "text/plain": [
       "21988"
      ]
     },
     "execution_count": 24,
     "metadata": {},
     "output_type": "execute_result"
    }
   ],
   "source": [
    "crawl_resuls_df[crawl_resuls_df.ml_signup].final_url.nunique()"
   ]
  },
  {
   "cell_type": "markdown",
   "metadata": {
    "id": "LlxROb0rgaZy"
   },
   "source": [
    "Manual Labelling"
   ]
  },
  {
   "cell_type": "markdown",
   "metadata": {
    "id": "iuP26i-99tyi"
   },
   "source": [
    "To compare those models, I manually analyzed some samples(randomly selected 1000 sites) by checking captured screenshots."
   ]
  },
  {
   "cell_type": "code",
   "execution_count": 25,
   "metadata": {
    "id": "_aAGd0SbezyE"
   },
   "outputs": [],
   "source": [
    "manual_analysis = pd.read_csv('csvs/classifiers_comparison_random_sample.csv')"
   ]
  },
  {
   "cell_type": "code",
   "execution_count": 26,
   "metadata": {
    "id": "ri5m18NvYnEt"
   },
   "outputs": [],
   "source": [
    "manual_analysis = manual_analysis[manual_analysis.label!='-']"
   ]
  },
  {
   "cell_type": "code",
   "execution_count": 27,
   "metadata": {
    "id": "iuckFub6-wsE"
   },
   "outputs": [],
   "source": [
    "def compute_f1(precision, recall):\n",
    "    return 2 * precision * recall / (precision + recall)"
   ]
  },
  {
   "cell_type": "markdown",
   "metadata": {
    "id": "wZDQbgv-gjw4"
   },
   "source": [
    "## Cookie-Hunter Results"
   ]
  },
  {
   "cell_type": "markdown",
   "metadata": {
    "id": "hz0xjAqTkQvG"
   },
   "source": [
    "Data"
   ]
  },
  {
   "cell_type": "code",
   "execution_count": 28,
   "metadata": {
    "id": "7Ca9r9_y4dBG"
   },
   "outputs": [],
   "source": [
    "manual_analysis['cookie_hunter_signup_true_positive'] = np.where((manual_analysis['cookie_hunter_signup'] == 'TRUE') & (manual_analysis['label'].isin(['b', 'r'])), True, False)\n",
    "manual_analysis['cookie_hunter_signup_false_positive'] = np.where((manual_analysis['cookie_hunter_signup'] == 'TRUE') & (manual_analysis['label'].isin(['l', 'n'])), True, False)\n",
    "manual_analysis['cookie_hunter_signup_false_negative'] = np.where((manual_analysis['cookie_hunter_signup'] == 'FALSE') & (manual_analysis['label'].isin(['b', 'r'])), True, False)"
   ]
  },
  {
   "cell_type": "code",
   "execution_count": 29,
   "metadata": {
    "colab": {
     "base_uri": "https://localhost:8080/"
    },
    "executionInfo": {
     "elapsed": 3,
     "status": "ok",
     "timestamp": 1696256363151,
     "user": {
      "displayName": "Asuman Senol",
      "userId": "06248440131549996568"
     },
     "user_tz": -120
    },
    "id": "xVkQNomb4dBH",
    "outputId": "27a5850a-51ab-4a6e-de71-6dc28568c36e"
   },
   "outputs": [
    {
     "name": "stdout",
     "output_type": "stream",
     "text": [
      "cookie_hunter signup precision: nan\n",
      "cookie_hunter signup recall: nan\n",
      "cookie_hunter signup f1: nan\n"
     ]
    },
    {
     "name": "stderr",
     "output_type": "stream",
     "text": [
      "<ipython-input-29-b3fc92655676>:1: RuntimeWarning: invalid value encountered in long_scalars\n",
      "  cookie_hunter_signup_precision = manual_analysis['cookie_hunter_signup_true_positive'].sum() / (manual_analysis['cookie_hunter_signup_true_positive'].sum() + manual_analysis['cookie_hunter_signup_false_positive'].sum())\n",
      "<ipython-input-29-b3fc92655676>:2: RuntimeWarning: invalid value encountered in long_scalars\n",
      "  cookie_hunter_signup_recall = manual_analysis['cookie_hunter_signup_true_positive'].sum() / (manual_analysis['cookie_hunter_signup_true_positive'].sum() + manual_analysis['cookie_hunter_signup_false_negative'].sum())\n"
     ]
    }
   ],
   "source": [
    "\n",
    "cookie_hunter_signup_precision = manual_analysis['cookie_hunter_signup_true_positive'].sum() / (manual_analysis['cookie_hunter_signup_true_positive'].sum() + manual_analysis['cookie_hunter_signup_false_positive'].sum())\n",
    "cookie_hunter_signup_recall = manual_analysis['cookie_hunter_signup_true_positive'].sum() / (manual_analysis['cookie_hunter_signup_true_positive'].sum() + manual_analysis['cookie_hunter_signup_false_negative'].sum())\n",
    "print(\"cookie_hunter signup precision: \" + str(cookie_hunter_signup_precision))\n",
    "print(\"cookie_hunter signup recall: \" + str(cookie_hunter_signup_recall))\n",
    "print(\"cookie_hunter signup f1: \" + str(compute_f1(cookie_hunter_signup_precision, cookie_hunter_signup_recall)))"
   ]
  },
  {
   "cell_type": "code",
   "execution_count": 30,
   "metadata": {
    "id": "5x5QwcKiog8Z"
   },
   "outputs": [],
   "source": [
    "manual_analysis['cookie_hunter_login_true_positive'] = np.where((manual_analysis['cookie_hunter_login'] == 'TRUE') & (manual_analysis['label'].isin(['b', 'l'])), True, False)\n",
    "manual_analysis['cookie_hunter_login_false_positive'] = np.where((manual_analysis['cookie_hunter_login'] == 'TRUE') & (manual_analysis['label'].isin(['r', 'n'])), True, False)\n",
    "manual_analysis['cookie_hunter_login_false_negative'] = np.where((manual_analysis['cookie_hunter_login'] == 'FALSE') & (manual_analysis['label'].isin(['b', 'l'])), True, False)"
   ]
  },
  {
   "cell_type": "code",
   "execution_count": 31,
   "metadata": {
    "colab": {
     "base_uri": "https://localhost:8080/"
    },
    "executionInfo": {
     "elapsed": 4,
     "status": "ok",
     "timestamp": 1696256363778,
     "user": {
      "displayName": "Asuman Senol",
      "userId": "06248440131549996568"
     },
     "user_tz": -120
    },
    "id": "d2xk6Cvwoh9B",
    "outputId": "7ad12e98-958b-46fe-e2d4-90f60801c575"
   },
   "outputs": [
    {
     "name": "stdout",
     "output_type": "stream",
     "text": [
      "cookie_hunter login precision: nan\n",
      "cookie_hunter login recall: nan\n",
      "cookie_hunter login f1: nan\n"
     ]
    },
    {
     "name": "stderr",
     "output_type": "stream",
     "text": [
      "<ipython-input-31-a1339134a160>:1: RuntimeWarning: invalid value encountered in long_scalars\n",
      "  cookie_hunter_login_precision = manual_analysis['cookie_hunter_login_true_positive'].sum() / (manual_analysis['cookie_hunter_login_true_positive'].sum() + manual_analysis['cookie_hunter_login_false_positive'].sum())\n",
      "<ipython-input-31-a1339134a160>:2: RuntimeWarning: invalid value encountered in long_scalars\n",
      "  cookie_hunter_login_recall = manual_analysis['cookie_hunter_login_true_positive'].sum() / (manual_analysis['cookie_hunter_login_true_positive'].sum() + manual_analysis['cookie_hunter_login_false_negative'].sum())\n"
     ]
    }
   ],
   "source": [
    "cookie_hunter_login_precision = manual_analysis['cookie_hunter_login_true_positive'].sum() / (manual_analysis['cookie_hunter_login_true_positive'].sum() + manual_analysis['cookie_hunter_login_false_positive'].sum())\n",
    "cookie_hunter_login_recall = manual_analysis['cookie_hunter_login_true_positive'].sum() / (manual_analysis['cookie_hunter_login_true_positive'].sum() + manual_analysis['cookie_hunter_login_false_negative'].sum())\n",
    "print(\"cookie_hunter login precision: \" + str(cookie_hunter_login_precision))\n",
    "print(\"cookie_hunter login recall: \" + str(cookie_hunter_login_recall))\n",
    "print(\"cookie_hunter login f1: \" + str(compute_f1(cookie_hunter_login_precision, cookie_hunter_login_recall)))"
   ]
  },
  {
   "cell_type": "code",
   "execution_count": 32,
   "metadata": {
    "id": "bNEAZlVDuEEz"
   },
   "outputs": [],
   "source": [
    "manual_analysis['cookie_hunter_neither_true_positive'] =  np.where((((manual_analysis['cookie_hunter_login'] == 'FALSE') & (manual_analysis['label'].isin(['n'])))|((manual_analysis['cookie_hunter_signup'] == 'FALSE') & (manual_analysis['label'].isin(['n'])))), True, False)\n",
    "manual_analysis['cookie_hunter_neither_false_positive'] = np.where((((manual_analysis['cookie_hunter_login'] == 'FALSE') & (manual_analysis['label'].isin(['l','b'])))|((manual_analysis['cookie_hunter_signup'] == 'FALSE') & (manual_analysis['label'].isin(['r','b'])))), True, False)\n",
    "manual_analysis['cookie_hunter_neither_false_negative'] = np.where((((manual_analysis['cookie_hunter_login'] == 'TRUE') & (manual_analysis['label'].isin(['n'])))|((manual_analysis['cookie_hunter_signup'] == 'TRUE') & (manual_analysis['label'].isin(['n'])))), True, False)"
   ]
  },
  {
   "cell_type": "code",
   "execution_count": 33,
   "metadata": {
    "colab": {
     "base_uri": "https://localhost:8080/"
    },
    "executionInfo": {
     "elapsed": 2,
     "status": "ok",
     "timestamp": 1696256364799,
     "user": {
      "displayName": "Asuman Senol",
      "userId": "06248440131549996568"
     },
     "user_tz": -120
    },
    "id": "k4m_ZsNLuGJ_",
    "outputId": "ced9a5ab-8cbf-440b-cc06-27516c46367d"
   },
   "outputs": [
    {
     "name": "stdout",
     "output_type": "stream",
     "text": [
      "cookie_hunter neither precision: nan\n",
      "cookie_hunter neither recall: nan\n",
      "cookie_hunter neither f1: nan\n"
     ]
    },
    {
     "name": "stderr",
     "output_type": "stream",
     "text": [
      "<ipython-input-33-305465064edd>:1: RuntimeWarning: invalid value encountered in long_scalars\n",
      "  cookie_hunter_neither_precision = manual_analysis['cookie_hunter_neither_true_positive'].sum() / (manual_analysis['cookie_hunter_neither_true_positive'].sum() + manual_analysis['cookie_hunter_neither_false_positive'].sum())\n",
      "<ipython-input-33-305465064edd>:2: RuntimeWarning: invalid value encountered in long_scalars\n",
      "  cookie_hunter_neither_recall = manual_analysis['cookie_hunter_neither_true_positive'].sum() / (manual_analysis['cookie_hunter_neither_true_positive'].sum() + manual_analysis['cookie_hunter_neither_false_negative'].sum())\n"
     ]
    }
   ],
   "source": [
    "cookie_hunter_neither_precision = manual_analysis['cookie_hunter_neither_true_positive'].sum() / (manual_analysis['cookie_hunter_neither_true_positive'].sum() + manual_analysis['cookie_hunter_neither_false_positive'].sum())\n",
    "cookie_hunter_neither_recall = manual_analysis['cookie_hunter_neither_true_positive'].sum() / (manual_analysis['cookie_hunter_neither_true_positive'].sum() + manual_analysis['cookie_hunter_neither_false_negative'].sum())\n",
    "print(\"cookie_hunter neither precision: \" + str(cookie_hunter_neither_precision))\n",
    "print(\"cookie_hunter neither recall: \" + str(cookie_hunter_neither_recall))\n",
    "print(\"cookie_hunter neither f1: \" + str(compute_f1(cookie_hunter_neither_precision, cookie_hunter_neither_recall)))"
   ]
  },
  {
   "cell_type": "markdown",
   "metadata": {
    "id": "AEzXuPmvs4lf"
   },
   "source": [
    "Fathom Results"
   ]
  },
  {
   "cell_type": "markdown",
   "metadata": {
    "id": "1KSKLFAkt1UY"
   },
   "source": [
    "Data"
   ]
  },
  {
   "cell_type": "code",
   "execution_count": 34,
   "metadata": {
    "id": "AONoWt1PtAvk"
   },
   "outputs": [],
   "source": [
    "manual_analysis['fathom_signup_true_positive'] = np.where((manual_analysis['fathom_signup'] == 'TRUE') & (manual_analysis['label'].isin(['b', 'r'])), True, False)\n",
    "manual_analysis['fathom_signup_false_positive'] = np.where((manual_analysis['fathom_signup'] == 'TRUE') & (manual_analysis['label'].isin(['l', '-', 'n'])), True, False)\n",
    "manual_analysis['fathom_signup_false_negative'] = np.where((manual_analysis['fathom_signup'] == 'FALSE') & (manual_analysis['label'].isin(['b', 'r'])), True, False)"
   ]
  },
  {
   "cell_type": "code",
   "execution_count": 35,
   "metadata": {
    "colab": {
     "base_uri": "https://localhost:8080/"
    },
    "executionInfo": {
     "elapsed": 3,
     "status": "ok",
     "timestamp": 1696256365908,
     "user": {
      "displayName": "Asuman Senol",
      "userId": "06248440131549996568"
     },
     "user_tz": -120
    },
    "id": "ZleMaejwtAvk",
    "outputId": "2b5fba30-4b32-43a8-9f8e-16c1f3eaf8a1"
   },
   "outputs": [
    {
     "name": "stdout",
     "output_type": "stream",
     "text": [
      "Fathom signup precision: nan\n",
      "Fathom signup recall: nan\n",
      "fathom signup f1: nan\n"
     ]
    },
    {
     "name": "stderr",
     "output_type": "stream",
     "text": [
      "<ipython-input-35-16f747e13f41>:1: RuntimeWarning: invalid value encountered in long_scalars\n",
      "  fathom_signup_precision = manual_analysis['fathom_signup_true_positive'].sum() / (manual_analysis['fathom_signup_true_positive'].sum() + manual_analysis['fathom_signup_false_positive'].sum())\n",
      "<ipython-input-35-16f747e13f41>:2: RuntimeWarning: invalid value encountered in long_scalars\n",
      "  fathom_signup_recall = manual_analysis['fathom_signup_true_positive'].sum() / (manual_analysis['fathom_signup_true_positive'].sum() + manual_analysis['fathom_signup_false_negative'].sum())\n"
     ]
    }
   ],
   "source": [
    "fathom_signup_precision = manual_analysis['fathom_signup_true_positive'].sum() / (manual_analysis['fathom_signup_true_positive'].sum() + manual_analysis['fathom_signup_false_positive'].sum())\n",
    "fathom_signup_recall = manual_analysis['fathom_signup_true_positive'].sum() / (manual_analysis['fathom_signup_true_positive'].sum() + manual_analysis['fathom_signup_false_negative'].sum())\n",
    "print(\"Fathom signup precision: \" + str(fathom_signup_precision))\n",
    "print(\"Fathom signup recall: \" + str(fathom_signup_recall))\n",
    "print(\"fathom signup f1: \" + str(compute_f1(fathom_signup_precision, fathom_signup_recall)))"
   ]
  },
  {
   "cell_type": "code",
   "execution_count": 36,
   "metadata": {
    "id": "GsHXExpNnQlR"
   },
   "outputs": [],
   "source": [
    "manual_analysis['fathom_login_true_positive'] = np.where((manual_analysis['fathom_login'] == 'TRUE') & (manual_analysis['label'].isin(['b', 'l'])), True, False)\n",
    "manual_analysis['fathom_login_false_positive'] = np.where((manual_analysis['fathom_login'] == 'TRUE') & (manual_analysis['label'].isin(['r', '-', 'n'])), True, False)\n",
    "manual_analysis['fathom_login_false_negative'] = np.where((manual_analysis['fathom_login'] == 'FALSE') & (manual_analysis['label'].isin(['b', 'l'])), True, False)"
   ]
  },
  {
   "cell_type": "code",
   "execution_count": 37,
   "metadata": {
    "colab": {
     "base_uri": "https://localhost:8080/"
    },
    "executionInfo": {
     "elapsed": 2,
     "status": "ok",
     "timestamp": 1696256366252,
     "user": {
      "displayName": "Asuman Senol",
      "userId": "06248440131549996568"
     },
     "user_tz": -120
    },
    "id": "74F7v_EAnSOq",
    "outputId": "86435aa1-3476-4fad-a7fc-5e2bb4736ac2"
   },
   "outputs": [
    {
     "name": "stdout",
     "output_type": "stream",
     "text": [
      "Fathom login precision: nan\n",
      "Fathom login recall: nan\n",
      "fathom login f1: nan\n"
     ]
    },
    {
     "name": "stderr",
     "output_type": "stream",
     "text": [
      "<ipython-input-37-959a8a2ece55>:1: RuntimeWarning: invalid value encountered in long_scalars\n",
      "  fathom_login_precision = manual_analysis['fathom_login_true_positive'].sum() / (manual_analysis['fathom_login_true_positive'].sum() + manual_analysis['fathom_login_false_positive'].sum())\n",
      "<ipython-input-37-959a8a2ece55>:2: RuntimeWarning: invalid value encountered in long_scalars\n",
      "  fathom_login_recall = manual_analysis['fathom_login_true_positive'].sum() / (manual_analysis['fathom_login_true_positive'].sum() + manual_analysis['fathom_login_false_negative'].sum())\n"
     ]
    }
   ],
   "source": [
    "fathom_login_precision = manual_analysis['fathom_login_true_positive'].sum() / (manual_analysis['fathom_login_true_positive'].sum() + manual_analysis['fathom_login_false_positive'].sum())\n",
    "fathom_login_recall = manual_analysis['fathom_login_true_positive'].sum() / (manual_analysis['fathom_login_true_positive'].sum() + manual_analysis['fathom_login_false_negative'].sum())\n",
    "print(\"Fathom login precision: \" + str(fathom_login_precision))\n",
    "print(\"Fathom login recall: \" + str(fathom_login_recall))\n",
    "print(\"fathom login f1: \" + str(compute_f1(fathom_login_precision, fathom_login_recall)))"
   ]
  },
  {
   "cell_type": "code",
   "execution_count": 38,
   "metadata": {
    "id": "TtcjMWQ-sKrs"
   },
   "outputs": [],
   "source": [
    "manual_analysis['fathom_neither_true_positive'] =  np.where((((manual_analysis['fathom_login'] == 'FALSE') & (manual_analysis['label'].isin(['n'])))|((manual_analysis['fathom_signup'] == 'FALSE') & (manual_analysis['label'].isin(['n'])))), True, False)\n",
    "manual_analysis['fathom_neither_false_positive'] = np.where((((manual_analysis['fathom_login'] == 'FALSE') & (manual_analysis['label'].isin(['l','b'])))|((manual_analysis['fathom_signup'] == 'FALSE') & (manual_analysis['label'].isin(['r','b'])))), True, False)\n",
    "manual_analysis['fathom_neither_false_negative'] = np.where((((manual_analysis['fathom_login'] == 'TRUE') & (manual_analysis['label'].isin(['n'])))|((manual_analysis['fathom_signup'] == 'TRUE') & (manual_analysis['label'].isin(['n'])))), True, False)"
   ]
  },
  {
   "cell_type": "code",
   "execution_count": 39,
   "metadata": {
    "colab": {
     "base_uri": "https://localhost:8080/"
    },
    "executionInfo": {
     "elapsed": 3,
     "status": "ok",
     "timestamp": 1696256366662,
     "user": {
      "displayName": "Asuman Senol",
      "userId": "06248440131549996568"
     },
     "user_tz": -120
    },
    "id": "Rd3PpqVfsK6f",
    "outputId": "8dec60f7-12e8-4785-fbad-514bae190c64"
   },
   "outputs": [
    {
     "name": "stdout",
     "output_type": "stream",
     "text": [
      "fathom neither precision: nan\n",
      "fathom neither recall: nan\n",
      "fathom neither f1: nan\n"
     ]
    },
    {
     "name": "stderr",
     "output_type": "stream",
     "text": [
      "<ipython-input-39-78b10df206c7>:1: RuntimeWarning: invalid value encountered in long_scalars\n",
      "  fathom_neither_precision = manual_analysis['fathom_neither_true_positive'].sum() / (manual_analysis['fathom_neither_true_positive'].sum() + manual_analysis['fathom_neither_false_positive'].sum())\n",
      "<ipython-input-39-78b10df206c7>:2: RuntimeWarning: invalid value encountered in long_scalars\n",
      "  fathom_neither_recall = manual_analysis['fathom_neither_true_positive'].sum() / (manual_analysis['fathom_neither_true_positive'].sum() + manual_analysis['fathom_neither_false_negative'].sum())\n"
     ]
    }
   ],
   "source": [
    "fathom_neither_precision = manual_analysis['fathom_neither_true_positive'].sum() / (manual_analysis['fathom_neither_true_positive'].sum() + manual_analysis['fathom_neither_false_positive'].sum())\n",
    "fathom_neither_recall = manual_analysis['fathom_neither_true_positive'].sum() / (manual_analysis['fathom_neither_true_positive'].sum() + manual_analysis['fathom_neither_false_negative'].sum())\n",
    "print(\"fathom neither precision: \" + str(fathom_neither_precision))\n",
    "print(\"fathom neither recall: \" + str(fathom_neither_recall))\n",
    "print(\"fathom neither f1: \" + str(compute_f1(fathom_neither_precision, fathom_neither_recall)))"
   ]
  },
  {
   "cell_type": "markdown",
   "metadata": {
    "id": "SiVIcp87ufe-"
   },
   "source": [
    "Autofill Results"
   ]
  },
  {
   "cell_type": "markdown",
   "metadata": {
    "id": "SZtchQ19ukIm"
   },
   "source": [
    "Data"
   ]
  },
  {
   "cell_type": "code",
   "execution_count": 40,
   "metadata": {
    "id": "Jzm_CGPnsD1W"
   },
   "outputs": [],
   "source": [
    "manual_analysis['autofill_signup_true_positive'] = np.where((manual_analysis['autofill_signup'] == 'TRUE') & (manual_analysis['label'].isin(['b', 'r'])), True, False)\n",
    "manual_analysis['autofill_signup_false_positive'] = np.where((manual_analysis['autofill_signup'] == 'TRUE') & (manual_analysis['label'].isin(['l', '-', 'n'])), True, False)\n",
    "manual_analysis['autofill_signup_false_negative'] = np.where((manual_analysis['autofill_signup'] == 'FALSE') & (manual_analysis['label'].isin(['b', 'r'])), True, False)"
   ]
  },
  {
   "cell_type": "code",
   "execution_count": 41,
   "metadata": {
    "colab": {
     "base_uri": "https://localhost:8080/"
    },
    "executionInfo": {
     "elapsed": 6,
     "status": "ok",
     "timestamp": 1696256367586,
     "user": {
      "displayName": "Asuman Senol",
      "userId": "06248440131549996568"
     },
     "user_tz": -120
    },
    "id": "YN1TABfGsPCB",
    "outputId": "b4223f4e-a09d-485c-acf3-ec99a7c59ba4"
   },
   "outputs": [
    {
     "name": "stdout",
     "output_type": "stream",
     "text": [
      "Autofill signup precision: nan\n",
      "Autofill signup recall: nan\n",
      "autofill signup f1: nan\n"
     ]
    },
    {
     "name": "stderr",
     "output_type": "stream",
     "text": [
      "<ipython-input-41-d93b126907ef>:1: RuntimeWarning: invalid value encountered in long_scalars\n",
      "  autofill_signup_precision = manual_analysis['autofill_signup_true_positive'].sum() / (manual_analysis['autofill_signup_true_positive'].sum() + manual_analysis['autofill_signup_false_positive'].sum())\n",
      "<ipython-input-41-d93b126907ef>:2: RuntimeWarning: invalid value encountered in long_scalars\n",
      "  autofill_signup_recall = manual_analysis['autofill_signup_true_positive'].sum() / (manual_analysis['autofill_signup_true_positive'].sum() + manual_analysis['autofill_signup_false_negative'].sum())\n"
     ]
    }
   ],
   "source": [
    "autofill_signup_precision = manual_analysis['autofill_signup_true_positive'].sum() / (manual_analysis['autofill_signup_true_positive'].sum() + manual_analysis['autofill_signup_false_positive'].sum())\n",
    "autofill_signup_recall = manual_analysis['autofill_signup_true_positive'].sum() / (manual_analysis['autofill_signup_true_positive'].sum() + manual_analysis['autofill_signup_false_negative'].sum())\n",
    "print(\"Autofill signup precision: \" + str(autofill_signup_precision))\n",
    "print(\"Autofill signup recall: \" + str(autofill_signup_recall))\n",
    "print(\"autofill signup f1: \" + str(compute_f1(autofill_signup_precision, autofill_signup_recall)))"
   ]
  },
  {
   "cell_type": "code",
   "execution_count": 42,
   "metadata": {
    "id": "HyYSPE7mpkPT"
   },
   "outputs": [],
   "source": [
    "manual_analysis['autofill_login_true_positive'] = np.where((manual_analysis['autofill_login'] == 'TRUE') & (manual_analysis['label'].isin(['b', 'l'])), True, False)\n",
    "manual_analysis['autofill_login_false_positive'] = np.where((manual_analysis['autofill_login'] == 'TRUE') & (manual_analysis['label'].isin(['r', '-', 'n'])), True, False)\n",
    "manual_analysis['autofill_login_false_negative'] = np.where((manual_analysis['autofill_login'] == 'FALSE') & (manual_analysis['label'].isin(['b', 'l'])), True, False)"
   ]
  },
  {
   "cell_type": "code",
   "execution_count": 43,
   "metadata": {
    "colab": {
     "base_uri": "https://localhost:8080/"
    },
    "executionInfo": {
     "elapsed": 6,
     "status": "ok",
     "timestamp": 1696256367587,
     "user": {
      "displayName": "Asuman Senol",
      "userId": "06248440131549996568"
     },
     "user_tz": -120
    },
    "id": "6HVeJ9x1pkps",
    "outputId": "e9014944-07b9-450a-881e-45c242d7e5e1"
   },
   "outputs": [
    {
     "name": "stdout",
     "output_type": "stream",
     "text": [
      "Autofill login precision: nan\n",
      "Autofill login recall: nan\n",
      "autofill login f1: nan\n"
     ]
    },
    {
     "name": "stderr",
     "output_type": "stream",
     "text": [
      "<ipython-input-43-5feb8533a475>:1: RuntimeWarning: invalid value encountered in long_scalars\n",
      "  autofill_login_precision = manual_analysis['autofill_login_true_positive'].sum() / (manual_analysis['autofill_login_true_positive'].sum() + manual_analysis['autofill_login_false_positive'].sum())\n",
      "<ipython-input-43-5feb8533a475>:2: RuntimeWarning: invalid value encountered in long_scalars\n",
      "  autofill_login_recall = manual_analysis['autofill_login_true_positive'].sum() / (manual_analysis['autofill_login_true_positive'].sum() + manual_analysis['autofill_login_false_negative'].sum())\n"
     ]
    }
   ],
   "source": [
    "autofill_login_precision = manual_analysis['autofill_login_true_positive'].sum() / (manual_analysis['autofill_login_true_positive'].sum() + manual_analysis['autofill_login_false_positive'].sum())\n",
    "autofill_login_recall = manual_analysis['autofill_login_true_positive'].sum() / (manual_analysis['autofill_login_true_positive'].sum() + manual_analysis['autofill_login_false_negative'].sum())\n",
    "print(\"Autofill login precision: \" + str(autofill_login_precision))\n",
    "print(\"Autofill login recall: \" + str(autofill_login_recall))\n",
    "print(\"autofill login f1: \" + str(compute_f1(autofill_login_precision, autofill_login_recall)))"
   ]
  },
  {
   "cell_type": "code",
   "execution_count": 44,
   "metadata": {
    "id": "Ho5B2uYotjKZ"
   },
   "outputs": [],
   "source": [
    "manual_analysis['autofill_neither_true_positive'] =  np.where((((manual_analysis['autofill_login'] == 'FALSE') & (manual_analysis['label'].isin(['n'])))|((manual_analysis['autofill_signup'] == 'FALSE') & (manual_analysis['label'].isin(['n'])))), True, False)\n",
    "manual_analysis['autofill_neither_false_positive'] = np.where((((manual_analysis['autofill_login'] == 'FALSE') & (manual_analysis['label'].isin(['l','b'])))|((manual_analysis['autofill_signup'] == 'FALSE') & (manual_analysis['label'].isin(['r','b'])))), True, False)\n",
    "manual_analysis['autofill_neither_false_negative'] = np.where((((manual_analysis['autofill_login'] == 'TRUE') & (manual_analysis['label'].isin(['n'])))|((manual_analysis['autofill_signup'] == 'TRUE') & (manual_analysis['label'].isin(['n'])))), True, False)"
   ]
  },
  {
   "cell_type": "code",
   "execution_count": 45,
   "metadata": {
    "colab": {
     "base_uri": "https://localhost:8080/"
    },
    "executionInfo": {
     "elapsed": 6,
     "status": "ok",
     "timestamp": 1696256368118,
     "user": {
      "displayName": "Asuman Senol",
      "userId": "06248440131549996568"
     },
     "user_tz": -120
    },
    "id": "50zMyWIxtjXL",
    "outputId": "c4ba92ec-e65b-4541-bfb6-5efbe989b6c9"
   },
   "outputs": [
    {
     "name": "stdout",
     "output_type": "stream",
     "text": [
      "autofill neither precision: nan\n",
      "autofill neither recall: nan\n",
      "autofill neither f1: nan\n"
     ]
    },
    {
     "name": "stderr",
     "output_type": "stream",
     "text": [
      "<ipython-input-45-737887adfecf>:1: RuntimeWarning: invalid value encountered in long_scalars\n",
      "  autofill_neither_precision = manual_analysis['autofill_neither_true_positive'].sum() / (manual_analysis['autofill_neither_true_positive'].sum() + manual_analysis['autofill_neither_false_positive'].sum())\n",
      "<ipython-input-45-737887adfecf>:2: RuntimeWarning: invalid value encountered in long_scalars\n",
      "  autofill_neither_recall = manual_analysis['autofill_neither_true_positive'].sum() / (manual_analysis['autofill_neither_true_positive'].sum() + manual_analysis['autofill_neither_false_negative'].sum())\n"
     ]
    }
   ],
   "source": [
    "autofill_neither_precision = manual_analysis['autofill_neither_true_positive'].sum() / (manual_analysis['autofill_neither_true_positive'].sum() + manual_analysis['autofill_neither_false_positive'].sum())\n",
    "autofill_neither_recall = manual_analysis['autofill_neither_true_positive'].sum() / (manual_analysis['autofill_neither_true_positive'].sum() + manual_analysis['autofill_neither_false_negative'].sum())\n",
    "print(\"autofill neither precision: \" + str(autofill_neither_precision))\n",
    "print(\"autofill neither recall: \" + str(autofill_neither_recall))\n",
    "print(\"autofill neither f1: \" + str(compute_f1(autofill_neither_precision, autofill_neither_recall)))"
   ]
  },
  {
   "cell_type": "markdown",
   "metadata": {
    "id": "NTL9rEBbu5jp"
   },
   "source": [
    "ML Model Results"
   ]
  },
  {
   "cell_type": "markdown",
   "metadata": {
    "id": "J9V0WfhCu-FC"
   },
   "source": [
    "Data"
   ]
  },
  {
   "cell_type": "code",
   "execution_count": 46,
   "metadata": {
    "id": "3ijYen274moC"
   },
   "outputs": [],
   "source": [
    "manual_analysis['ml_signup_true_positive'] = np.where((manual_analysis['ml_signup'] == 'TRUE') & (manual_analysis['label'].isin(['b', 'r'])), True, False)\n",
    "manual_analysis['ml_signup_false_positive'] = np.where((manual_analysis['ml_signup'] == 'TRUE') & (manual_analysis['label'].isin(['l', 'n'])), True, False)\n",
    "manual_analysis['ml_signup_false_negative'] = np.where((manual_analysis['ml_signup'] == 'FALSE') & (manual_analysis['label'].isin(['b', 'r'])), True, False)"
   ]
  },
  {
   "cell_type": "code",
   "execution_count": 47,
   "metadata": {
    "colab": {
     "base_uri": "https://localhost:8080/"
    },
    "executionInfo": {
     "elapsed": 10,
     "status": "ok",
     "timestamp": 1696256371811,
     "user": {
      "displayName": "Asuman Senol",
      "userId": "06248440131549996568"
     },
     "user_tz": -120
    },
    "id": "VSNtu3184moC",
    "outputId": "95a668e1-c751-49cd-e17c-8a11a4507224"
   },
   "outputs": [
    {
     "name": "stdout",
     "output_type": "stream",
     "text": [
      "ml signup precision: nan\n",
      "ml signup recall: nan\n",
      "ml signup f1: nan\n"
     ]
    },
    {
     "name": "stderr",
     "output_type": "stream",
     "text": [
      "<ipython-input-47-8e4c20123307>:1: RuntimeWarning: invalid value encountered in long_scalars\n",
      "  ml_signup_precision = manual_analysis['ml_signup_true_positive'].sum() / (manual_analysis['ml_signup_true_positive'].sum() + manual_analysis['ml_signup_false_positive'].sum())\n",
      "<ipython-input-47-8e4c20123307>:2: RuntimeWarning: invalid value encountered in long_scalars\n",
      "  ml_signup_recall = manual_analysis['ml_signup_true_positive'].sum() / (manual_analysis['ml_signup_true_positive'].sum() + manual_analysis['ml_signup_false_negative'].sum())\n"
     ]
    }
   ],
   "source": [
    "ml_signup_precision = manual_analysis['ml_signup_true_positive'].sum() / (manual_analysis['ml_signup_true_positive'].sum() + manual_analysis['ml_signup_false_positive'].sum())\n",
    "ml_signup_recall = manual_analysis['ml_signup_true_positive'].sum() / (manual_analysis['ml_signup_true_positive'].sum() + manual_analysis['ml_signup_false_negative'].sum())\n",
    "print(\"ml signup precision: \" + str(ml_signup_precision))\n",
    "print(\"ml signup recall: \" + str(ml_signup_recall))\n",
    "print(\"ml signup f1: \" + str(compute_f1(ml_signup_precision, ml_signup_recall)))"
   ]
  },
  {
   "cell_type": "code",
   "execution_count": 48,
   "metadata": {
    "id": "lfJ2_bhVpxsn"
   },
   "outputs": [],
   "source": [
    "manual_analysis['ml_login_true_positive'] = np.where((manual_analysis['ml_login'] == 'TRUE') & (manual_analysis['label'].isin(['b', 'l'])), True, False)\n",
    "manual_analysis['ml_login_false_positive'] = np.where((manual_analysis['ml_login'] == 'TRUE') & (manual_analysis['label'].isin(['r', 'n'])), True, False)\n",
    "manual_analysis['ml_login_false_negative'] = np.where((manual_analysis['ml_login'] == 'FALSE') & (manual_analysis['label'].isin(['b', 'l'])), True, False)"
   ]
  },
  {
   "cell_type": "code",
   "execution_count": 49,
   "metadata": {
    "colab": {
     "base_uri": "https://localhost:8080/"
    },
    "executionInfo": {
     "elapsed": 5,
     "status": "ok",
     "timestamp": 1696256372050,
     "user": {
      "displayName": "Asuman Senol",
      "userId": "06248440131549996568"
     },
     "user_tz": -120
    },
    "id": "nj54ORXRpyGc",
    "outputId": "75bc0383-8bf2-46d3-f54a-92dc708d62d6"
   },
   "outputs": [
    {
     "name": "stdout",
     "output_type": "stream",
     "text": [
      "ml login precision: nan\n",
      "ml login recall: nan\n",
      "ml login f1: nan\n"
     ]
    },
    {
     "name": "stderr",
     "output_type": "stream",
     "text": [
      "<ipython-input-49-e11309623c09>:1: RuntimeWarning: invalid value encountered in long_scalars\n",
      "  ml_login_precision = manual_analysis['ml_login_true_positive'].sum() / (manual_analysis['ml_login_true_positive'].sum() + manual_analysis['ml_login_false_positive'].sum())\n",
      "<ipython-input-49-e11309623c09>:2: RuntimeWarning: invalid value encountered in long_scalars\n",
      "  ml_login_recall = manual_analysis['ml_login_true_positive'].sum() / (manual_analysis['ml_login_true_positive'].sum() + manual_analysis['ml_login_false_negative'].sum())\n"
     ]
    }
   ],
   "source": [
    "ml_login_precision = manual_analysis['ml_login_true_positive'].sum() / (manual_analysis['ml_login_true_positive'].sum() + manual_analysis['ml_login_false_positive'].sum())\n",
    "ml_login_recall = manual_analysis['ml_login_true_positive'].sum() / (manual_analysis['ml_login_true_positive'].sum() + manual_analysis['ml_login_false_negative'].sum())\n",
    "print(\"ml login precision: \" + str(ml_login_precision))\n",
    "print(\"ml login recall: \" + str(ml_login_recall))\n",
    "print(\"ml login f1: \" + str(compute_f1(ml_login_precision, ml_login_recall)))"
   ]
  },
  {
   "cell_type": "code",
   "execution_count": 50,
   "metadata": {
    "id": "D7gnr-xv5zjQ"
   },
   "outputs": [],
   "source": [
    "manual_analysis['ml_neither_true_positive'] =  np.where((((manual_analysis['ml_login'] == 'FALSE') & (manual_analysis['label'].isin(['n'])))|((manual_analysis['ml_signup'] == 'FALSE') & (manual_analysis['label'].isin(['n'])))), True, False)\n",
    "manual_analysis['ml_neither_false_positive'] = np.where((((manual_analysis['ml_login'] == 'FALSE') & (manual_analysis['label'].isin(['l','b'])))|((manual_analysis['ml_signup'] == 'FALSE') & (manual_analysis['label'].isin(['r','b'])))), True, False)\n",
    "manual_analysis['ml_neither_false_negative'] = np.where((((manual_analysis['ml_login'] == 'TRUE') & (manual_analysis['label'].isin(['n'])))|((manual_analysis['ml_signup'] == 'TRUE') & (manual_analysis['label'].isin(['n'])))), True, False)"
   ]
  },
  {
   "cell_type": "code",
   "execution_count": 51,
   "metadata": {
    "colab": {
     "base_uri": "https://localhost:8080/"
    },
    "executionInfo": {
     "elapsed": 10,
     "status": "ok",
     "timestamp": 1696256372605,
     "user": {
      "displayName": "Asuman Senol",
      "userId": "06248440131549996568"
     },
     "user_tz": -120
    },
    "id": "os64KbOj50Bk",
    "outputId": "be6dade4-516a-428a-9656-d1d43de9d8fd"
   },
   "outputs": [
    {
     "name": "stdout",
     "output_type": "stream",
     "text": [
      "ml neither precision: nan\n",
      "ml neither recall: nan\n",
      "ml neither f1: nan\n"
     ]
    },
    {
     "name": "stderr",
     "output_type": "stream",
     "text": [
      "<ipython-input-51-ed880ac18f41>:1: RuntimeWarning: invalid value encountered in long_scalars\n",
      "  ml_neither_precision = manual_analysis['ml_neither_true_positive'].sum() / (manual_analysis['ml_neither_true_positive'].sum() + manual_analysis['ml_neither_false_positive'].sum())\n",
      "<ipython-input-51-ed880ac18f41>:2: RuntimeWarning: invalid value encountered in long_scalars\n",
      "  ml_neither_recall = manual_analysis['ml_neither_true_positive'].sum() / (manual_analysis['ml_neither_true_positive'].sum() + manual_analysis['ml_neither_false_negative'].sum())\n"
     ]
    }
   ],
   "source": [
    "ml_neither_precision = manual_analysis['ml_neither_true_positive'].sum() / (manual_analysis['ml_neither_true_positive'].sum() + manual_analysis['ml_neither_false_positive'].sum())\n",
    "ml_neither_recall = manual_analysis['ml_neither_true_positive'].sum() / (manual_analysis['ml_neither_true_positive'].sum() + manual_analysis['ml_neither_false_negative'].sum())\n",
    "print(\"ml neither precision: \" + str(ml_neither_precision))\n",
    "print(\"ml neither recall: \" + str(ml_neither_recall))\n",
    "print(\"ml neither f1: \" + str(compute_f1(ml_neither_precision, ml_neither_recall)))"
   ]
  },
  {
   "cell_type": "code",
   "execution_count": 52,
   "metadata": {
    "colab": {
     "base_uri": "https://localhost:8080/",
     "height": 478
    },
    "executionInfo": {
     "elapsed": 260,
     "status": "ok",
     "timestamp": 1696256667190,
     "user": {
      "displayName": "Asuman Senol",
      "userId": "06248440131549996568"
     },
     "user_tz": -120
    },
    "id": "fGRa6Fozwjxq",
    "outputId": "efcc790f-cd1c-4fc6-c8e8-dbb13dea84db"
   },
   "outputs": [
    {
     "data": {
      "text/html": [
       "<div>\n",
       "<style scoped>\n",
       "    .dataframe tbody tr th:only-of-type {\n",
       "        vertical-align: middle;\n",
       "    }\n",
       "\n",
       "    .dataframe tbody tr th {\n",
       "        vertical-align: top;\n",
       "    }\n",
       "\n",
       "    .dataframe thead th {\n",
       "        text-align: right;\n",
       "    }\n",
       "</style>\n",
       "<table border=\"1\" class=\"dataframe\">\n",
       "  <thead>\n",
       "    <tr style=\"text-align: right;\">\n",
       "      <th></th>\n",
       "      <th>init_url</th>\n",
       "      <th>final_url</th>\n",
       "      <th>fathom_login</th>\n",
       "      <th>fathom_signup</th>\n",
       "      <th>cookie_hunter_login</th>\n",
       "      <th>cookie_hunter_signup</th>\n",
       "      <th>autofill_login</th>\n",
       "      <th>autofill_signup</th>\n",
       "      <th>screenshot_path</th>\n",
       "      <th>is_homepage</th>\n",
       "      <th>...</th>\n",
       "      <th>autofill_neither_false_negative</th>\n",
       "      <th>ml_signup_true_positive</th>\n",
       "      <th>ml_signup_false_positive</th>\n",
       "      <th>ml_signup_false_negative</th>\n",
       "      <th>ml_login_true_positive</th>\n",
       "      <th>ml_login_false_positive</th>\n",
       "      <th>ml_login_false_negative</th>\n",
       "      <th>ml_neither_true_positive</th>\n",
       "      <th>ml_neither_false_positive</th>\n",
       "      <th>ml_neither_false_negative</th>\n",
       "    </tr>\n",
       "  </thead>\n",
       "  <tbody>\n",
       "  </tbody>\n",
       "</table>\n",
       "<p>0 rows × 50 columns</p>\n",
       "</div>"
      ],
      "text/plain": [
       "Empty DataFrame\n",
       "Columns: [init_url, final_url, fathom_login, fathom_signup, cookie_hunter_login, cookie_hunter_signup, autofill_login, autofill_signup, screenshot_path, is_homepage, is_innerpage, ml_login, ml_signup, label, cookie_hunter_signup_true_positive, cookie_hunter_signup_false_positive, cookie_hunter_signup_false_negative, cookie_hunter_login_true_positive, cookie_hunter_login_false_positive, cookie_hunter_login_false_negative, cookie_hunter_neither_true_positive, cookie_hunter_neither_false_positive, cookie_hunter_neither_false_negative, fathom_signup_true_positive, fathom_signup_false_positive, fathom_signup_false_negative, fathom_login_true_positive, fathom_login_false_positive, fathom_login_false_negative, fathom_neither_true_positive, fathom_neither_false_positive, fathom_neither_false_negative, autofill_signup_true_positive, autofill_signup_false_positive, autofill_signup_false_negative, autofill_login_true_positive, autofill_login_false_positive, autofill_login_false_negative, autofill_neither_true_positive, autofill_neither_false_positive, autofill_neither_false_negative, ml_signup_true_positive, ml_signup_false_positive, ml_signup_false_negative, ml_login_true_positive, ml_login_false_positive, ml_login_false_negative, ml_neither_true_positive, ml_neither_false_positive, ml_neither_false_negative]\n",
       "Index: []\n",
       "\n",
       "[0 rows x 50 columns]"
      ]
     },
     "execution_count": 52,
     "metadata": {},
     "output_type": "execute_result"
    }
   ],
   "source": [
    "manual_analysis[(manual_analysis.fathom_login=='TRUE')&(manual_analysis.fathom_signup=='TRUE')]"
   ]
  },
  {
   "cell_type": "markdown",
   "metadata": {
    "id": "N-1zZ2V7-Luw"
   },
   "source": [
    "# FP-Attempts"
   ]
  },
  {
   "cell_type": "markdown",
   "metadata": {
    "id": "ykw1cKcM-WDc"
   },
   "source": [
    "To detect FPing attempts, we used heuristics from FPInspector paper: https://web.cs.ucdavis.edu/~zubair/files/fpinspector-sp2021.pdf"
   ]
  },
  {
   "cell_type": "markdown",
   "metadata": {
    "id": "nWgIBXSk-a0w"
   },
   "source": [
    "A script is labeled as a fingerprinting script if the heuristics (see the Appendix C. Fingerprinting Heuristics) trigger any behavior related to Canvas, WebRTC, Canvas Font, or AudioContext."
   ]
  },
  {
   "cell_type": "code",
   "execution_count": 53,
   "metadata": {
    "colab": {
     "base_uri": "https://localhost:8080/",
     "height": 261
    },
    "executionInfo": {
     "elapsed": 9075,
     "status": "ok",
     "timestamp": 1696261203456,
     "user": {
      "displayName": "Asuman Senol",
      "userId": "06248440131549996568"
     },
     "user_tz": -120
    },
    "id": "14voYLvWZutM",
    "outputId": "ff6b30a6-c7eb-46ab-9bee-e92a66375954"
   },
   "outputs": [
    {
     "data": {
      "text/html": [
       "<div>\n",
       "<style scoped>\n",
       "    .dataframe tbody tr th:only-of-type {\n",
       "        vertical-align: middle;\n",
       "    }\n",
       "\n",
       "    .dataframe tbody tr th {\n",
       "        vertical-align: top;\n",
       "    }\n",
       "\n",
       "    .dataframe thead th {\n",
       "        text-align: right;\n",
       "    }\n",
       "</style>\n",
       "<table border=\"1\" class=\"dataframe\">\n",
       "  <thead>\n",
       "    <tr style=\"text-align: right;\">\n",
       "      <th></th>\n",
       "      <th>Unnamed: 0</th>\n",
       "      <th>script_url</th>\n",
       "      <th>fp_type</th>\n",
       "      <th>initial_url</th>\n",
       "      <th>final_url</th>\n",
       "      <th>site_domain</th>\n",
       "      <th>is_homepage</th>\n",
       "      <th>is_innerpage</th>\n",
       "      <th>script_domain</th>\n",
       "      <th>description</th>\n",
       "      <th>access_type</th>\n",
       "      <th>arguments</th>\n",
       "      <th>frameUrl</th>\n",
       "      <th>return_value</th>\n",
       "      <th>is_third_party</th>\n",
       "      <th>tracker_categories</th>\n",
       "      <th>tracker_owner</th>\n",
       "      <th>is_tracker</th>\n",
       "      <th>hostname</th>\n",
       "    </tr>\n",
       "  </thead>\n",
       "  <tbody>\n",
       "    <tr>\n",
       "      <th>0</th>\n",
       "      <td>0</td>\n",
       "      <td>https://jw7.bet/_next/static/chunks/5936-f3f35...</td>\n",
       "      <td>audio_context</td>\n",
       "      <td>https://jw7.bet/lobby/lottery</td>\n",
       "      <td>https://jw7.bet/lobby/lottery/</td>\n",
       "      <td>jw7.bet</td>\n",
       "      <td>False</td>\n",
       "      <td>True</td>\n",
       "      <td>jw7.bet</td>\n",
       "      <td>NaN</td>\n",
       "      <td>NaN</td>\n",
       "      <td>NaN</td>\n",
       "      <td>NaN</td>\n",
       "      <td>NaN</td>\n",
       "      <td>False</td>\n",
       "      <td>NaN</td>\n",
       "      <td>NaN</td>\n",
       "      <td>0</td>\n",
       "      <td>jw7.bet</td>\n",
       "    </tr>\n",
       "    <tr>\n",
       "      <th>1</th>\n",
       "      <td>1</td>\n",
       "      <td>https://jw7.bet/_next/static/chunks/5936-f3f35...</td>\n",
       "      <td>canvas</td>\n",
       "      <td>https://jw7.bet/lobby/lottery</td>\n",
       "      <td>https://jw7.bet/lobby/lottery/</td>\n",
       "      <td>jw7.bet</td>\n",
       "      <td>False</td>\n",
       "      <td>True</td>\n",
       "      <td>jw7.bet</td>\n",
       "      <td>NaN</td>\n",
       "      <td>NaN</td>\n",
       "      <td>NaN</td>\n",
       "      <td>NaN</td>\n",
       "      <td>NaN</td>\n",
       "      <td>False</td>\n",
       "      <td>NaN</td>\n",
       "      <td>NaN</td>\n",
       "      <td>0</td>\n",
       "      <td>jw7.bet</td>\n",
       "    </tr>\n",
       "    <tr>\n",
       "      <th>2</th>\n",
       "      <td>2</td>\n",
       "      <td>https://bets88vip.com/sistema_v2/assets/js/fin...</td>\n",
       "      <td>canvas</td>\n",
       "      <td>https://bets88vip.com/sistema_v2/login.aspx</td>\n",
       "      <td>https://bets88vip.com/sistema_v2/login.aspx</td>\n",
       "      <td>bets88vip.com</td>\n",
       "      <td>False</td>\n",
       "      <td>True</td>\n",
       "      <td>bets88vip.com</td>\n",
       "      <td>NaN</td>\n",
       "      <td>NaN</td>\n",
       "      <td>NaN</td>\n",
       "      <td>NaN</td>\n",
       "      <td>NaN</td>\n",
       "      <td>False</td>\n",
       "      <td>NaN</td>\n",
       "      <td>NaN</td>\n",
       "      <td>1</td>\n",
       "      <td>bets88vip.com</td>\n",
       "    </tr>\n",
       "    <tr>\n",
       "      <th>3</th>\n",
       "      <td>3</td>\n",
       "      <td>https://static.novelpub.com/content/js/595.087...</td>\n",
       "      <td>audio_context</td>\n",
       "      <td>https://www.novelpub.com/novel/adopting-disaster</td>\n",
       "      <td>https://www.novelpub.com/novel/adopting-disaster</td>\n",
       "      <td>novelpub.com</td>\n",
       "      <td>False</td>\n",
       "      <td>True</td>\n",
       "      <td>novelpub.com</td>\n",
       "      <td>NaN</td>\n",
       "      <td>NaN</td>\n",
       "      <td>NaN</td>\n",
       "      <td>NaN</td>\n",
       "      <td>NaN</td>\n",
       "      <td>False</td>\n",
       "      <td>NaN</td>\n",
       "      <td>NaN</td>\n",
       "      <td>0</td>\n",
       "      <td>www.novelpub.com</td>\n",
       "    </tr>\n",
       "    <tr>\n",
       "      <th>4</th>\n",
       "      <td>4</td>\n",
       "      <td>https://static.novelpub.com/content/js/595.087...</td>\n",
       "      <td>canvas</td>\n",
       "      <td>https://www.novelpub.com/novel/adopting-disaster</td>\n",
       "      <td>https://www.novelpub.com/novel/adopting-disaster</td>\n",
       "      <td>novelpub.com</td>\n",
       "      <td>False</td>\n",
       "      <td>True</td>\n",
       "      <td>novelpub.com</td>\n",
       "      <td>NaN</td>\n",
       "      <td>NaN</td>\n",
       "      <td>NaN</td>\n",
       "      <td>NaN</td>\n",
       "      <td>NaN</td>\n",
       "      <td>False</td>\n",
       "      <td>NaN</td>\n",
       "      <td>NaN</td>\n",
       "      <td>0</td>\n",
       "      <td>www.novelpub.com</td>\n",
       "    </tr>\n",
       "  </tbody>\n",
       "</table>\n",
       "</div>"
      ],
      "text/plain": [
       "   Unnamed: 0                                         script_url  \\\n",
       "0           0  https://jw7.bet/_next/static/chunks/5936-f3f35...   \n",
       "1           1  https://jw7.bet/_next/static/chunks/5936-f3f35...   \n",
       "2           2  https://bets88vip.com/sistema_v2/assets/js/fin...   \n",
       "3           3  https://static.novelpub.com/content/js/595.087...   \n",
       "4           4  https://static.novelpub.com/content/js/595.087...   \n",
       "\n",
       "         fp_type                                       initial_url  \\\n",
       "0  audio_context                     https://jw7.bet/lobby/lottery   \n",
       "1         canvas                     https://jw7.bet/lobby/lottery   \n",
       "2         canvas       https://bets88vip.com/sistema_v2/login.aspx   \n",
       "3  audio_context  https://www.novelpub.com/novel/adopting-disaster   \n",
       "4         canvas  https://www.novelpub.com/novel/adopting-disaster   \n",
       "\n",
       "                                          final_url    site_domain  \\\n",
       "0                    https://jw7.bet/lobby/lottery/        jw7.bet   \n",
       "1                    https://jw7.bet/lobby/lottery/        jw7.bet   \n",
       "2       https://bets88vip.com/sistema_v2/login.aspx  bets88vip.com   \n",
       "3  https://www.novelpub.com/novel/adopting-disaster   novelpub.com   \n",
       "4  https://www.novelpub.com/novel/adopting-disaster   novelpub.com   \n",
       "\n",
       "   is_homepage  is_innerpage  script_domain description access_type arguments  \\\n",
       "0        False          True        jw7.bet         NaN         NaN       NaN   \n",
       "1        False          True        jw7.bet         NaN         NaN       NaN   \n",
       "2        False          True  bets88vip.com         NaN         NaN       NaN   \n",
       "3        False          True   novelpub.com         NaN         NaN       NaN   \n",
       "4        False          True   novelpub.com         NaN         NaN       NaN   \n",
       "\n",
       "   frameUrl return_value  is_third_party tracker_categories tracker_owner  \\\n",
       "0       NaN          NaN           False                NaN           NaN   \n",
       "1       NaN          NaN           False                NaN           NaN   \n",
       "2       NaN          NaN           False                NaN           NaN   \n",
       "3       NaN          NaN           False                NaN           NaN   \n",
       "4       NaN          NaN           False                NaN           NaN   \n",
       "\n",
       "   is_tracker          hostname  \n",
       "0           0           jw7.bet  \n",
       "1           0           jw7.bet  \n",
       "2           1     bets88vip.com  \n",
       "3           0  www.novelpub.com  \n",
       "4           0  www.novelpub.com  "
      ]
     },
     "execution_count": 53,
     "metadata": {},
     "output_type": "execute_result"
    }
   ],
   "source": [
    "fps_attempts_df.head()"
   ]
  },
  {
   "cell_type": "code",
   "execution_count": 54,
   "metadata": {
    "colab": {
     "base_uri": "https://localhost:8080/"
    },
    "executionInfo": {
     "elapsed": 1015,
     "status": "ok",
     "timestamp": 1696261204798,
     "user": {
      "displayName": "Asuman Senol",
      "userId": "06248440131549996568"
     },
     "user_tz": -120
    },
    "id": "c0jTjYX0-N-R",
    "outputId": "3a499c37-dd4a-41cb-b6b6-1fb94fac07b5"
   },
   "outputs": [
    {
     "name": "stdout",
     "output_type": "stream",
     "text": [
      "FPing attempt detected 48267 sites.\n"
     ]
    }
   ],
   "source": [
    "print(f'FPing attempt detected {fps_attempts_df.final_url.nunique()} sites.')"
   ]
  },
  {
   "cell_type": "code",
   "execution_count": 55,
   "metadata": {
    "colab": {
     "base_uri": "https://localhost:8080/"
    },
    "executionInfo": {
     "elapsed": 2104,
     "status": "ok",
     "timestamp": 1696261207307,
     "user": {
      "displayName": "Asuman Senol",
      "userId": "06248440131549996568"
     },
     "user_tz": -120
    },
    "id": "IzoWm1LzihRJ",
    "outputId": "c43ab17e-5b4d-445c-b5bd-c15177a09fee"
   },
   "outputs": [
    {
     "name": "stdout",
     "output_type": "stream",
     "text": [
      "FPing attempts percentage 0.08919008814235822 sites.\n"
     ]
    }
   ],
   "source": [
    "print(f'FPing attempts percentage {fps_attempts_df.final_url.nunique()/TOTAL_NUM_SUCC_SITES} sites.')"
   ]
  },
  {
   "cell_type": "code",
   "execution_count": 56,
   "metadata": {
    "colab": {
     "base_uri": "https://localhost:8080/"
    },
    "executionInfo": {
     "elapsed": 7071,
     "status": "ok",
     "timestamp": 1696261214838,
     "user": {
      "displayName": "Asuman Senol",
      "userId": "06248440131549996568"
     },
     "user_tz": -120
    },
    "id": "gphCNo1_-Pom",
    "outputId": "b90a3bf1-ab5b-41dc-c5d3-e2a70d7f72ca"
   },
   "outputs": [
    {
     "data": {
      "text/plain": [
       "canvas           30152\n",
       "audio_context    21846\n",
       "webrtc            9440\n",
       "canvas_font       2910\n",
       "Name: fp_type, dtype: int64"
      ]
     },
     "execution_count": 56,
     "metadata": {},
     "output_type": "execute_result"
    }
   ],
   "source": [
    "fps_attempts_df.drop_duplicates(['script_url', 'final_url']).fp_type.value_counts()"
   ]
  },
  {
   "cell_type": "code",
   "execution_count": 57,
   "metadata": {
    "colab": {
     "base_uri": "https://localhost:8080/"
    },
    "executionInfo": {
     "elapsed": 4527,
     "status": "ok",
     "timestamp": 1696261220070,
     "user": {
      "displayName": "Asuman Senol",
      "userId": "06248440131549996568"
     },
     "user_tz": -120
    },
    "id": "i4FMwMwOiXIw",
    "outputId": "6a701d0b-90e1-4c68-8f1a-4b554e734f0c"
   },
   "outputs": [
    {
     "name": "stdout",
     "output_type": "stream",
     "text": [
      "FPing attempt detected 4664 by a distinct script domain.\n"
     ]
    }
   ],
   "source": [
    "print(f'FPing attempt detected {fps_attempts_df.script_domain.nunique()} by a distinct script domain.')"
   ]
  },
  {
   "cell_type": "markdown",
   "metadata": {
    "id": "MstmdC2o-vPt"
   },
   "source": [
    "## Third parties attempting FPing"
   ]
  },
  {
   "cell_type": "code",
   "execution_count": 58,
   "metadata": {
    "id": "rLzk4LOB-w2U"
   },
   "outputs": [],
   "source": [
    "third_party_fp_attempts = fps_attempts_df[(fps_attempts_df.site_domain!=fps_attempts_df.script_domain)]"
   ]
  },
  {
   "cell_type": "code",
   "execution_count": 59,
   "metadata": {
    "colab": {
     "base_uri": "https://localhost:8080/"
    },
    "executionInfo": {
     "elapsed": 2550,
     "status": "ok",
     "timestamp": 1696261233981,
     "user": {
      "displayName": "Asuman Senol",
      "userId": "06248440131549996568"
     },
     "user_tz": -120
    },
    "id": "QnfCmwg1-2Bk",
    "outputId": "3f6eb872-1f97-4daa-c04c-64d2d7f531cc"
   },
   "outputs": [
    {
     "name": "stdout",
     "output_type": "stream",
     "text": [
      "Number of sites where FPing was attempted by a third party: 29052\n"
     ]
    }
   ],
   "source": [
    "print(f'Number of sites where FPing was attempted by a third party: {third_party_fp_attempts.final_url.nunique()}')"
   ]
  },
  {
   "cell_type": "code",
   "execution_count": 60,
   "metadata": {
    "colab": {
     "base_uri": "https://localhost:8080/"
    },
    "executionInfo": {
     "elapsed": 9328,
     "status": "ok",
     "timestamp": 1696261243652,
     "user": {
      "displayName": "Asuman Senol",
      "userId": "06248440131549996568"
     },
     "user_tz": -120
    },
    "id": "wFiiEdEfh1Vg",
    "outputId": "2f5938fd-e709-4b2a-dcdc-f678e438c316"
   },
   "outputs": [
    {
     "name": "stdout",
     "output_type": "stream",
     "text": [
      "FPing attempts percentage 0.053683685348411773 sites.\n"
     ]
    }
   ],
   "source": [
    "print(f'FPing attempts percentage {third_party_fp_attempts.final_url.nunique()/TOTAL_NUM_SUCC_SITES} sites.')"
   ]
  },
  {
   "cell_type": "code",
   "execution_count": 61,
   "metadata": {
    "colab": {
     "base_uri": "https://localhost:8080/"
    },
    "executionInfo": {
     "elapsed": 4373,
     "status": "ok",
     "timestamp": 1696261248286,
     "user": {
      "displayName": "Asuman Senol",
      "userId": "06248440131549996568"
     },
     "user_tz": -120
    },
    "id": "5ZVYra7Q-2pG",
    "outputId": "fb202ddc-38ab-46f3-a9b8-41c150642e82"
   },
   "outputs": [
    {
     "name": "stdout",
     "output_type": "stream",
     "text": [
      "Number of 3rd-party scripts where FPing was attempted by a third party: 866\n"
     ]
    }
   ],
   "source": [
    "print(f'Number of 3rd-party scripts where FPing was attempted by a third party: {third_party_fp_attempts.script_domain.nunique()}')"
   ]
  },
  {
   "cell_type": "markdown",
   "metadata": {
    "id": "vyw4zflG_XZG"
   },
   "source": [
    "## The most popular third party domains FPing"
   ]
  },
  {
   "cell_type": "code",
   "execution_count": 62,
   "metadata": {
    "colab": {
     "base_uri": "https://localhost:8080/"
    },
    "executionInfo": {
     "elapsed": 9045,
     "status": "ok",
     "timestamp": 1696261257326,
     "user": {
      "displayName": "Asuman Senol",
      "userId": "06248440131549996568"
     },
     "user_tz": -120
    },
    "id": "sWhnqxjD_PAA",
    "outputId": "7ed6a5a3-b4e0-48b8-88be-0381c79e5adb"
   },
   "outputs": [
    {
     "data": {
      "text/plain": [
       "adsco.re                         1907\n",
       "wpadmngr.com                     1418\n",
       "signifyd.com                     1414\n",
       "bounceexchange.com               1330\n",
       "insurads.com                     1229\n",
       "alicdn.com                        959\n",
       "top100.ru                         913\n",
       "salesmanago.pl                    756\n",
       "clickcease.com                    719\n",
       "ltwebstatic.com                   698\n",
       "franecki.net                      589\n",
       "intergient.com                    585\n",
       "cloudflare.com                    571\n",
       "sp-trk.com                        547\n",
       "d38xvr37kwwhcm.cloudfront.net     545\n",
       "sift.com                          519\n",
       "siftscience.com                   415\n",
       "k-analytix.com                    381\n",
       "jsdelivr.net                      353\n",
       "trafficjunky.com                  327\n",
       "Name: script_domain, dtype: int64"
      ]
     },
     "execution_count": 62,
     "metadata": {},
     "output_type": "execute_result"
    }
   ],
   "source": [
    "third_party_fp_attempts.drop_duplicates(['final_url','script_url']).script_domain.value_counts().head(20)"
   ]
  },
  {
   "cell_type": "markdown",
   "metadata": {
    "id": "ssipnbg7CKcb"
   },
   "source": [
    "# Prevalence of fingerprinting scripts on login/signup pages"
   ]
  },
  {
   "cell_type": "markdown",
   "metadata": {
    "id": "-8CmDHe-Dzdp"
   },
   "source": [
    "## Login Pages"
   ]
  },
  {
   "cell_type": "code",
   "execution_count": 63,
   "metadata": {
    "id": "qp61FlE6Hb5p"
   },
   "outputs": [],
   "source": [
    "TOTAL_NUM_LOGIN_PAGES = crawl_resuls_df[(crawl_resuls_df.ml_login)].final_url.nunique()"
   ]
  },
  {
   "cell_type": "code",
   "execution_count": 64,
   "metadata": {
    "executionInfo": {
     "elapsed": 391,
     "status": "ok",
     "timestamp": 1696889673999,
     "user": {
      "displayName": "Alisha Ukani",
      "userId": "07133445635502183845"
     },
     "user_tz": 420
    },
    "id": "0lET53d-Cv8F"
   },
   "outputs": [],
   "source": [
    "fp_login_df = fps_attempts_df[fps_attempts_df.final_url.isin(crawl_resuls_df[crawl_resuls_df.ml_login].final_url.unique())]"
   ]
  },
  {
   "cell_type": "code",
   "execution_count": 65,
   "metadata": {
    "colab": {
     "base_uri": "https://localhost:8080/"
    },
    "executionInfo": {
     "elapsed": 4396,
     "status": "ok",
     "timestamp": 1696261270123,
     "user": {
      "displayName": "Asuman Senol",
      "userId": "06248440131549996568"
     },
     "user_tz": -120
    },
    "id": "y6SuQF4zF8th",
    "outputId": "b1458210-d2dd-43bd-8909-18dbabc661e9"
   },
   "outputs": [
    {
     "name": "stdout",
     "output_type": "stream",
     "text": [
      "The number of sites where FPing was attempted on a login page: 4872, perc: 0.09226399015244768\n"
     ]
    }
   ],
   "source": [
    "print(f'The number of sites where FPing was attempted on a login page: {fp_login_df.final_url.nunique()}, perc: {fp_login_df.final_url.nunique()/TOTAL_NUM_LOGIN_PAGES}')"
   ]
  },
  {
   "cell_type": "code",
   "execution_count": 66,
   "metadata": {
    "id": "L8qEtHuUIYA1"
   },
   "outputs": [],
   "source": [
    "fp_login_third_party_df = fp_login_df[fp_login_df.is_third_party]"
   ]
  },
  {
   "cell_type": "code",
   "execution_count": 67,
   "metadata": {
    "id": "WZkzqdYiJDqY"
   },
   "outputs": [
    {
     "name": "stdout",
     "output_type": "stream",
     "text": [
      "The number of sites where FPing was attempted by a third party on a login page: 2294, perc: 0.04344285579017138\n"
     ]
    }
   ],
   "source": [
    "print(f'The number of sites where FPing was attempted by a third party on a login page: {fp_login_third_party_df.final_url.nunique()}, perc: {fp_login_third_party_df.final_url.nunique()/TOTAL_NUM_LOGIN_PAGES}')"
   ]
  },
  {
   "cell_type": "code",
   "execution_count": 68,
   "metadata": {
    "id": "czLcpnT_3oSk"
   },
   "outputs": [
    {
     "data": {
      "text/plain": [
       "alicdn.com                       176\n",
       "ssl-images-amazon.com            136\n",
       "signifyd.com                     126\n",
       "yimg.com                         126\n",
       "sift.com                          96\n",
       "bounceexchange.com                90\n",
       "d38xvr37kwwhcm.cloudfront.net     82\n",
       "top100.ru                         77\n",
       "awswaf.com                        72\n",
       "licdn.com                         71\n",
       "salesmanago.pl                    64\n",
       "cloudflare.com                    61\n",
       "ebay-us.com                       58\n",
       "siftscience.com                   58\n",
       "clickcease.com                    54\n",
       "shopeemobile.com                  53\n",
       "k-analytix.com                    47\n",
       "forter.com                        44\n",
       "sp-trk.com                        44\n",
       "adsco.re                          37\n",
       "Name: script_domain, dtype: int64"
      ]
     },
     "execution_count": 68,
     "metadata": {},
     "output_type": "execute_result"
    }
   ],
   "source": [
    "fp_login_third_party_df.drop_duplicates(['final_url','script_url']).script_domain.value_counts().head(20)"
   ]
  },
  {
   "cell_type": "markdown",
   "metadata": {
    "id": "z39A2ZKcFNqV"
   },
   "source": [
    "##Signup Pages"
   ]
  },
  {
   "cell_type": "code",
   "execution_count": 69,
   "metadata": {
    "id": "_c0gSiQZKcj8"
   },
   "outputs": [],
   "source": [
    "TOTAL_NUM_SIGNUP_PAGES = crawl_resuls_df[(crawl_resuls_df.ml_signup)].final_url.nunique()"
   ]
  },
  {
   "cell_type": "code",
   "execution_count": 70,
   "metadata": {
    "executionInfo": {
     "elapsed": 154,
     "status": "ok",
     "timestamp": 1696893050483,
     "user": {
      "displayName": "Alisha Ukani",
      "userId": "07133445635502183845"
     },
     "user_tz": 420
    },
    "id": "TjDhNy_zKcj9"
   },
   "outputs": [],
   "source": [
    "fp_signup_df = fps_attempts_df[fps_attempts_df.final_url.isin(crawl_resuls_df[crawl_resuls_df.ml_signup].final_url.unique())]"
   ]
  },
  {
   "cell_type": "code",
   "execution_count": 71,
   "metadata": {
    "colab": {
     "base_uri": "https://localhost:8080/"
    },
    "executionInfo": {
     "elapsed": 2,
     "status": "ok",
     "timestamp": 1696377280492,
     "user": {
      "displayName": "Alisha Ukani",
      "userId": "07133445635502183845"
     },
     "user_tz": 420
    },
    "id": "XzvqqScDKcj-",
    "outputId": "10000bc6-7d91-459a-8670-e6e37f2941af"
   },
   "outputs": [
    {
     "name": "stdout",
     "output_type": "stream",
     "text": [
      "The number of sites where FPing was attempted on a signup page: 2737, perc: 0.12447698744769875\n"
     ]
    }
   ],
   "source": [
    "print(f'The number of sites where FPing was attempted on a signup page: {fp_signup_df.final_url.nunique()}, perc: {fp_signup_df.final_url.nunique()/TOTAL_NUM_SIGNUP_PAGES}')"
   ]
  },
  {
   "cell_type": "code",
   "execution_count": 72,
   "metadata": {
    "id": "jFzyE-pHKcj_"
   },
   "outputs": [],
   "source": [
    "fp_signup_third_party_df = fp_signup_df[fp_signup_df.is_third_party]"
   ]
  },
  {
   "cell_type": "code",
   "execution_count": 73,
   "metadata": {
    "id": "JuepUn24Kcj_"
   },
   "outputs": [
    {
     "name": "stdout",
     "output_type": "stream",
     "text": [
      "The number of sites where FPing was attempted by a third party on a login page: 1503, perc: 0.06835546661815536\n"
     ]
    }
   ],
   "source": [
    "print(f'The number of sites where FPing was attempted by a third party on a login page: {fp_signup_third_party_df.final_url.nunique()}, perc: {fp_signup_third_party_df.final_url.nunique()/TOTAL_NUM_SIGNUP_PAGES}')"
   ]
  },
  {
   "cell_type": "code",
   "execution_count": 74,
   "metadata": {
    "id": "v1xhsi_5313c"
   },
   "outputs": [
    {
     "data": {
      "text/plain": [
       "signifyd.com                     113\n",
       "licdn.com                        102\n",
       "fjfdadfdfcibgbjaadf.world         95\n",
       "cloudflare.com                    83\n",
       "bounceexchange.com                69\n",
       "clickcease.com                    67\n",
       "d38xvr37kwwhcm.cloudfront.net     57\n",
       "sift.com                          52\n",
       "salesmanago.pl                    48\n",
       "siftscience.com                   45\n",
       "pixlee.com                        42\n",
       "pinimg.com                        39\n",
       "top100.ru                         36\n",
       "ssl-images-amazon.com             35\n",
       "fpnpmcdn.net                      32\n",
       "px-cloud.net                      28\n",
       "r66net.com                        27\n",
       "alicdn.com                        25\n",
       "intergient.com                    24\n",
       "trafficjunky.com                  23\n",
       "wpadmngr.com                      23\n",
       "sp-trk.com                        22\n",
       "adsco.re                          22\n",
       "yimg.com                          21\n",
       "jsdelivr.net                      20\n",
       "gsitrix.com                       18\n",
       "openfpcdn.io                      17\n",
       "maxmind.com                       16\n",
       "acint.net                         14\n",
       "online-metrix.net                 14\n",
       "clientgear.com                    13\n",
       "geetest.com                       13\n",
       "clearbit.com                      12\n",
       "k-analytix.com                    12\n",
       "yastatic.net                      11\n",
       "franecki.net                      11\n",
       "cdn-net.com                       11\n",
       "flux-cdn.com                      10\n",
       "mapixl.com                        10\n",
       "g-system.io                       10\n",
       "fraud0.com                        10\n",
       "insurads.com                      10\n",
       "awswaf.com                        10\n",
       "ttwstatic.com                      9\n",
       "b0e8.com                           8\n",
       "teraboxcdn.com                     8\n",
       "spolecznosci.net                   7\n",
       "pubguru.com                        7\n",
       "arc.io                             7\n",
       "akamaihd.net                       6\n",
       "Name: script_domain, dtype: int64"
      ]
     },
     "execution_count": 74,
     "metadata": {},
     "output_type": "execute_result"
    }
   ],
   "source": [
    "fp_signup_third_party_df.drop_duplicates(['final_url','script_url']).script_domain.value_counts().head(50)"
   ]
  },
  {
   "cell_type": "markdown",
   "metadata": {
    "id": "Zes1-bkSo2fK"
   },
   "source": [
    "##Login or Signup Pages"
   ]
  },
  {
   "cell_type": "code",
   "execution_count": 75,
   "metadata": {
    "id": "he2Lx4N5GsN2"
   },
   "outputs": [],
   "source": [
    "TOTAL_NUM_LOGIN_SIGNUP_PAGES = len(crawl_resuls_df[(crawl_resuls_df.ml_login)|(crawl_resuls_df.ml_signup)])"
   ]
  },
  {
   "cell_type": "code",
   "execution_count": 76,
   "metadata": {
    "id": "NeAedJ5co6KE"
   },
   "outputs": [],
   "source": [
    "fp_signup_login_df = fps_attempts_df[(fps_attempts_df.final_url.isin(crawl_resuls_df[crawl_resuls_df.ml_signup].final_url.unique()))|(fps_attempts_df.final_url.isin(crawl_resuls_df[crawl_resuls_df.ml_login].final_url.unique()))]"
   ]
  },
  {
   "cell_type": "code",
   "execution_count": 77,
   "metadata": {
    "id": "dwuzK5uypScN"
   },
   "outputs": [
    {
     "name": "stdout",
     "output_type": "stream",
     "text": [
      "Number of sites where FPing was attempted on a signin or a signup page: 7606, perc: 0.09221405882495574\n"
     ]
    }
   ],
   "source": [
    "print(f'Number of sites where FPing was attempted on a signin or a signup page: {fp_signup_login_df.final_url.nunique()}, perc: {fp_signup_login_df.final_url.nunique()/TOTAL_NUM_LOGIN_SIGNUP_PAGES}')"
   ]
  },
  {
   "cell_type": "code",
   "execution_count": 78,
   "metadata": {
    "id": "zwXwEGTMwnTS"
   },
   "outputs": [],
   "source": [
    "fp_signup_login_third_party_df = fp_signup_login_df[fp_signup_login_df.is_third_party]"
   ]
  },
  {
   "cell_type": "code",
   "execution_count": 79,
   "metadata": {
    "id": "cJYd4ws4pTxE"
   },
   "outputs": [
    {
     "name": "stdout",
     "output_type": "stream",
     "text": [
      "Number of sites where FPing was attempted on a signin or a signup page by a third party: 3794, perc: 0.045997914696539854\n"
     ]
    }
   ],
   "source": [
    "print(f'Number of sites where FPing was attempted on a signin or a signup page by a third party: {fp_signup_login_third_party_df.final_url.nunique()}, perc: {fp_signup_login_third_party_df.final_url.nunique()/TOTAL_NUM_LOGIN_SIGNUP_PAGES}')"
   ]
  },
  {
   "cell_type": "code",
   "execution_count": 80,
   "metadata": {
    "id": "kRORo87d079l"
   },
   "outputs": [
    {
     "data": {
      "text/plain": [
       "signifyd.com                     239\n",
       "alicdn.com                       201\n",
       "licdn.com                        173\n",
       "ssl-images-amazon.com            171\n",
       "bounceexchange.com               159\n",
       "sift.com                         148\n",
       "yimg.com                         147\n",
       "cloudflare.com                   144\n",
       "d38xvr37kwwhcm.cloudfront.net    139\n",
       "clickcease.com                   118\n",
       "top100.ru                        113\n",
       "salesmanago.pl                   112\n",
       "siftscience.com                  103\n",
       "fjfdadfdfcibgbjaadf.world         95\n",
       "awswaf.com                        82\n",
       "sp-trk.com                        66\n",
       "pixlee.com                        63\n",
       "k-analytix.com                    59\n",
       "adsco.re                          59\n",
       "ebay-us.com                       58\n",
       "Name: script_domain, dtype: int64"
      ]
     },
     "execution_count": 80,
     "metadata": {},
     "output_type": "execute_result"
    }
   ],
   "source": [
    "fp_signup_login_third_party_df.drop_duplicates(['final_url','script_url']).script_domain.value_counts().head(20)"
   ]
  },
  {
   "cell_type": "markdown",
   "metadata": {
    "id": "w23K2ow1sXBF"
   },
   "source": [
    "##Homepages vs Inner pages"
   ]
  },
  {
   "cell_type": "code",
   "execution_count": 81,
   "metadata": {
    "id": "jcpdWyIOsaf4"
   },
   "outputs": [],
   "source": [
    "fp_homepages_df = fps_attempts_df[fps_attempts_df.is_homepage]"
   ]
  },
  {
   "cell_type": "code",
   "execution_count": 82,
   "metadata": {
    "id": "3GIm6m-Vsodn"
   },
   "outputs": [
    {
     "name": "stdout",
     "output_type": "stream",
     "text": [
      "Number of sites where FPing was attempted on a homepage: 8067, PERC: 0.0853813424779323\n"
     ]
    }
   ],
   "source": [
    "print(f'Number of sites where FPing was attempted on a homepage: {fp_homepages_df.final_url.nunique()}, PERC: {fp_homepages_df.final_url.nunique()/TOTAL_NUM_HOMEPAGE_SUCC_VISITED}')"
   ]
  },
  {
   "cell_type": "code",
   "execution_count": 83,
   "metadata": {
    "id": "aEPTqiYwy22y"
   },
   "outputs": [],
   "source": [
    "fp_homepages_third_party_df = fp_homepages_df[fp_homepages_df.is_third_party]"
   ]
  },
  {
   "cell_type": "code",
   "execution_count": 84,
   "metadata": {
    "colab": {
     "background_save": true
    },
    "id": "2xg0hsltzFZu"
   },
   "outputs": [
    {
     "name": "stdout",
     "output_type": "stream",
     "text": [
      "Number of sites where FPing was attempted by a third party on a homepage: 4639, PERC: 0.049099299337439936\n"
     ]
    }
   ],
   "source": [
    "print(f'Number of sites where FPing was attempted by a third party on a homepage: {fp_homepages_third_party_df.final_url.nunique()}, PERC: {fp_homepages_third_party_df.final_url.nunique()/TOTAL_NUM_HOMEPAGE_SUCC_VISITED}')"
   ]
  },
  {
   "cell_type": "code",
   "execution_count": 85,
   "metadata": {
    "id": "z455xoZNskwL"
   },
   "outputs": [],
   "source": [
    "fp_innerpages_df = fps_attempts_df[fps_attempts_df.is_innerpage]"
   ]
  },
  {
   "cell_type": "code",
   "execution_count": 86,
   "metadata": {
    "id": "PHF9bbAMsuns"
   },
   "outputs": [
    {
     "name": "stdout",
     "output_type": "stream",
     "text": [
      "Number of sites where FPing was attempted on a innerpage: 40828, PERC: 0.09140160469947704\n"
     ]
    }
   ],
   "source": [
    "print(f'Number of sites where FPing was attempted on a innerpage: {fp_innerpages_df.final_url.nunique()}, PERC: {fp_innerpages_df.final_url.nunique()/TOTAL_NUM_INNERPAGE_SUCC_VISITED}')"
   ]
  },
  {
   "cell_type": "code",
   "execution_count": 87,
   "metadata": {
    "id": "tDmRFjEexa9l"
   },
   "outputs": [],
   "source": [
    "fp_innerpages_third_party_df = fp_innerpages_df[fp_innerpages_df.is_third_party]"
   ]
  },
  {
   "cell_type": "code",
   "execution_count": 88,
   "metadata": {
    "id": "WMWrcY8f6hWH"
   },
   "outputs": [
    {
     "name": "stdout",
     "output_type": "stream",
     "text": [
      "Number of sites where FPing was attempted by a third-party on a innerpage: 24701, PERC: 0.05529810516512644\n"
     ]
    }
   ],
   "source": [
    "print(f'Number of sites where FPing was attempted by a third-party on a innerpage: {fp_innerpages_third_party_df.final_url.nunique()}, PERC: {fp_innerpages_third_party_df.final_url.nunique()/TOTAL_NUM_INNERPAGE_SUCC_VISITED}')"
   ]
  },
  {
   "cell_type": "markdown",
   "metadata": {
    "id": "be6kENqv39Q3"
   },
   "source": [
    "## Login vs Signup"
   ]
  },
  {
   "cell_type": "code",
   "execution_count": 89,
   "metadata": {
    "id": "CvsVUl1I36uO"
   },
   "outputs": [
    {
     "data": {
      "text/html": [
       "<div>\n",
       "<style scoped>\n",
       "    .dataframe tbody tr th:only-of-type {\n",
       "        vertical-align: middle;\n",
       "    }\n",
       "\n",
       "    .dataframe tbody tr th {\n",
       "        vertical-align: top;\n",
       "    }\n",
       "\n",
       "    .dataframe thead th {\n",
       "        text-align: right;\n",
       "    }\n",
       "</style>\n",
       "<table border=\"1\" class=\"dataframe\">\n",
       "  <thead>\n",
       "    <tr style=\"text-align: right;\">\n",
       "      <th></th>\n",
       "      <th>hostname</th>\n",
       "      <th>script_domain_signup</th>\n",
       "      <th>script_domain_login</th>\n",
       "    </tr>\n",
       "  </thead>\n",
       "  <tbody>\n",
       "    <tr>\n",
       "      <th>0</th>\n",
       "      <td>159i.com</td>\n",
       "      <td>{cloudflare.com}</td>\n",
       "      <td>NaN</td>\n",
       "    </tr>\n",
       "    <tr>\n",
       "      <th>1</th>\n",
       "      <td>1stphorm.com</td>\n",
       "      <td>{signifyd.com}</td>\n",
       "      <td>{signifyd.com}</td>\n",
       "    </tr>\n",
       "    <tr>\n",
       "      <th>2</th>\n",
       "      <td>8a.pl</td>\n",
       "      <td>{salesmanago.pl}</td>\n",
       "      <td>NaN</td>\n",
       "    </tr>\n",
       "    <tr>\n",
       "      <th>3</th>\n",
       "      <td>account.chsi.com.cn</td>\n",
       "      <td>{chei.com.cn}</td>\n",
       "      <td>NaN</td>\n",
       "    </tr>\n",
       "    <tr>\n",
       "      <th>4</th>\n",
       "      <td>account.playerauctions.com</td>\n",
       "      <td>{siftscience.com}</td>\n",
       "      <td>NaN</td>\n",
       "    </tr>\n",
       "    <tr>\n",
       "      <th>...</th>\n",
       "      <td>...</td>\n",
       "      <td>...</td>\n",
       "      <td>...</td>\n",
       "    </tr>\n",
       "    <tr>\n",
       "      <th>1897</th>\n",
       "      <td>wykop.pl</td>\n",
       "      <td>NaN</td>\n",
       "      <td>{spolecznosci.net}</td>\n",
       "    </tr>\n",
       "    <tr>\n",
       "      <th>1898</th>\n",
       "      <td>wynagrodzenia.pl</td>\n",
       "      <td>NaN</td>\n",
       "      <td>{salesmanago.pl}</td>\n",
       "    </tr>\n",
       "    <tr>\n",
       "      <th>1899</th>\n",
       "      <td>yeniemlak.az</td>\n",
       "      <td>NaN</td>\n",
       "      <td>{top100.ru}</td>\n",
       "    </tr>\n",
       "    <tr>\n",
       "      <th>1900</th>\n",
       "      <td>yookassa.ru</td>\n",
       "      <td>NaN</td>\n",
       "      <td>{yoomoney.ru}</td>\n",
       "    </tr>\n",
       "    <tr>\n",
       "      <th>1901</th>\n",
       "      <td>zozo.jp</td>\n",
       "      <td>NaN</td>\n",
       "      <td>{sp-trk.com}</td>\n",
       "    </tr>\n",
       "  </tbody>\n",
       "</table>\n",
       "<p>1902 rows × 3 columns</p>\n",
       "</div>"
      ],
      "text/plain": [
       "                        hostname script_domain_signup script_domain_login\n",
       "0                       159i.com     {cloudflare.com}                 NaN\n",
       "1                   1stphorm.com       {signifyd.com}      {signifyd.com}\n",
       "2                          8a.pl     {salesmanago.pl}                 NaN\n",
       "3            account.chsi.com.cn        {chei.com.cn}                 NaN\n",
       "4     account.playerauctions.com    {siftscience.com}                 NaN\n",
       "...                          ...                  ...                 ...\n",
       "1897                    wykop.pl                  NaN  {spolecznosci.net}\n",
       "1898            wynagrodzenia.pl                  NaN    {salesmanago.pl}\n",
       "1899                yeniemlak.az                  NaN         {top100.ru}\n",
       "1900                 yookassa.ru                  NaN       {yoomoney.ru}\n",
       "1901                     zozo.jp                  NaN        {sp-trk.com}\n",
       "\n",
       "[1902 rows x 3 columns]"
      ]
     },
     "execution_count": 89,
     "metadata": {},
     "output_type": "execute_result"
    }
   ],
   "source": [
    "signup_scripts_per_hostname = fp_signup_third_party_df.groupby('hostname')['script_domain'].apply(set).reset_index()\n",
    "login_scripts_per_hostname = fp_login_third_party_df.groupby('hostname')['script_domain'].apply(set).reset_index()\n",
    "scripts_per_hostname = signup_scripts_per_hostname.merge(login_scripts_per_hostname, how='outer', on='hostname', suffixes=(\"_signup\", \"_login\"))\n",
    "scripts_per_hostname"
   ]
  },
  {
   "cell_type": "code",
   "execution_count": 90,
   "metadata": {
    "id": "2RT6ds265EFG"
   },
   "outputs": [
    {
     "name": "stdout",
     "output_type": "stream",
     "text": [
      "Number of sites that fingerprint on login but not signup: 914 (48.05%)\n",
      "Number of sites that fingerprint on signup but not login: 473 (24.87%)\n",
      "Number of sites that fingerprint on both login and signup: 515 (27.08%)\n"
     ]
    }
   ],
   "source": [
    "# How many sites will fingerprint on only their login or only their signup page?\n",
    "num_sites = len(scripts_per_hostname)\n",
    "site_only_fp_login = scripts_per_hostname[(scripts_per_hostname.script_domain_signup.isna()) & (~scripts_per_hostname.script_domain_login.isna())]\n",
    "site_only_fp_signup = scripts_per_hostname[(~scripts_per_hostname.script_domain_signup.isna()) & (scripts_per_hostname.script_domain_login.isna())]\n",
    "site_fp_both = scripts_per_hostname[(~scripts_per_hostname.script_domain_signup.isna()) & (~scripts_per_hostname.script_domain_login.isna())]\n",
    "print(f\"Number of sites that fingerprint on login but not signup: {len(site_only_fp_login)} ({100*len(site_only_fp_login)/num_sites:.2f}%)\")\n",
    "print(f\"Number of sites that fingerprint on signup but not login: {len(site_only_fp_signup)} ({100*len(site_only_fp_signup)/num_sites:.2f}%)\")\n",
    "print(f\"Number of sites that fingerprint on both login and signup: {len(site_fp_both)} ({100*len(site_fp_both)/num_sites:.2f}%)\")"
   ]
  },
  {
   "cell_type": "code",
   "execution_count": 91,
   "metadata": {
    "id": "-fS1xlL96hf0"
   },
   "outputs": [
    {
     "name": "stdout",
     "output_type": "stream",
     "text": [
      "Number of sites where login and signup scripts domains are the same (for sites that fingerprint on both login and signup): 505 (98.06%)\n"
     ]
    },
    {
     "data": {
      "text/html": [
       "<div>\n",
       "<style scoped>\n",
       "    .dataframe tbody tr th:only-of-type {\n",
       "        vertical-align: middle;\n",
       "    }\n",
       "\n",
       "    .dataframe tbody tr th {\n",
       "        vertical-align: top;\n",
       "    }\n",
       "\n",
       "    .dataframe thead th {\n",
       "        text-align: right;\n",
       "    }\n",
       "</style>\n",
       "<table border=\"1\" class=\"dataframe\">\n",
       "  <thead>\n",
       "    <tr style=\"text-align: right;\">\n",
       "      <th></th>\n",
       "      <th>hostname</th>\n",
       "      <th>script_domain_signup</th>\n",
       "      <th>script_domain_login</th>\n",
       "    </tr>\n",
       "  </thead>\n",
       "  <tbody>\n",
       "    <tr>\n",
       "      <th>171</th>\n",
       "      <td>greenmoney.ru</td>\n",
       "      <td>{scoring.ru}</td>\n",
       "      <td>{juicyscore.com}</td>\n",
       "    </tr>\n",
       "    <tr>\n",
       "      <th>222</th>\n",
       "      <td>kak2z.ru</td>\n",
       "      <td>{acint.net}</td>\n",
       "      <td>{acint.net, 2xclick.ru}</td>\n",
       "    </tr>\n",
       "    <tr>\n",
       "      <th>289</th>\n",
       "      <td>old.reactor.cc</td>\n",
       "      <td>{acint.net, yabidos.com}</td>\n",
       "      <td>{acint.net}</td>\n",
       "    </tr>\n",
       "    <tr>\n",
       "      <th>306</th>\n",
       "      <td>passport.yandex.com.tr</td>\n",
       "      <td>{yastatic.net}</td>\n",
       "      <td>{yandex.ru}</td>\n",
       "    </tr>\n",
       "    <tr>\n",
       "      <th>539</th>\n",
       "      <td>www.bugaboo.com</td>\n",
       "      <td>{bounceexchange.com, d38xvr37kwwhcm.cloudfront...</td>\n",
       "      <td>{d38xvr37kwwhcm.cloudfront.net, signifyd.com}</td>\n",
       "    </tr>\n",
       "    <tr>\n",
       "      <th>574</th>\n",
       "      <td>www.conoha.jp</td>\n",
       "      <td>{g-system.io}</td>\n",
       "      <td>{licdn.com, g-system.io}</td>\n",
       "    </tr>\n",
       "    <tr>\n",
       "      <th>794</th>\n",
       "      <td>www.pgatoursuperstore.com</td>\n",
       "      <td>{quadpay.com}</td>\n",
       "      <td>{px-cloud.net, quadpay.com}</td>\n",
       "    </tr>\n",
       "    <tr>\n",
       "      <th>860</th>\n",
       "      <td>www.scarlet-clicks.info</td>\n",
       "      <td>{bmcdn6.com}</td>\n",
       "      <td>{bmcdn5.com}</td>\n",
       "    </tr>\n",
       "    <tr>\n",
       "      <th>890</th>\n",
       "      <td>www.sunglasshut.com</td>\n",
       "      <td>{smct.io, bounceexchange.com}</td>\n",
       "      <td>{bounceexchange.com}</td>\n",
       "    </tr>\n",
       "    <tr>\n",
       "      <th>946</th>\n",
       "      <td>www.worldremit.com</td>\n",
       "      <td>{clickcease.com, px-cloud.net, serveipqs.com}</td>\n",
       "      <td>{clickcease.com}</td>\n",
       "    </tr>\n",
       "  </tbody>\n",
       "</table>\n",
       "</div>"
      ],
      "text/plain": [
       "                      hostname  \\\n",
       "171              greenmoney.ru   \n",
       "222                   kak2z.ru   \n",
       "289             old.reactor.cc   \n",
       "306     passport.yandex.com.tr   \n",
       "539            www.bugaboo.com   \n",
       "574              www.conoha.jp   \n",
       "794  www.pgatoursuperstore.com   \n",
       "860    www.scarlet-clicks.info   \n",
       "890        www.sunglasshut.com   \n",
       "946         www.worldremit.com   \n",
       "\n",
       "                                  script_domain_signup  \\\n",
       "171                                       {scoring.ru}   \n",
       "222                                        {acint.net}   \n",
       "289                           {acint.net, yabidos.com}   \n",
       "306                                     {yastatic.net}   \n",
       "539  {bounceexchange.com, d38xvr37kwwhcm.cloudfront...   \n",
       "574                                      {g-system.io}   \n",
       "794                                      {quadpay.com}   \n",
       "860                                       {bmcdn6.com}   \n",
       "890                      {smct.io, bounceexchange.com}   \n",
       "946      {clickcease.com, px-cloud.net, serveipqs.com}   \n",
       "\n",
       "                               script_domain_login  \n",
       "171                               {juicyscore.com}  \n",
       "222                        {acint.net, 2xclick.ru}  \n",
       "289                                    {acint.net}  \n",
       "306                                    {yandex.ru}  \n",
       "539  {d38xvr37kwwhcm.cloudfront.net, signifyd.com}  \n",
       "574                       {licdn.com, g-system.io}  \n",
       "794                    {px-cloud.net, quadpay.com}  \n",
       "860                                   {bmcdn5.com}  \n",
       "890                           {bounceexchange.com}  \n",
       "946                               {clickcease.com}  "
      ]
     },
     "execution_count": 91,
     "metadata": {},
     "output_type": "execute_result"
    }
   ],
   "source": [
    "# If a site fingerprints on both login and signup pages, do those scripts differ?\n",
    "login_signup_same = site_fp_both[site_fp_both.script_domain_signup == site_fp_both.script_domain_login]\n",
    "print(f\"Number of sites where login and signup scripts domains are the same (for sites that fingerprint on both login and signup): {len(login_signup_same)} ({100* len(login_signup_same) / len(site_fp_both):.2f}%)\")\n",
    "\n",
    "site_fp_both[site_fp_both.script_domain_signup != site_fp_both.script_domain_login]"
   ]
  },
  {
   "cell_type": "markdown",
   "metadata": {
    "id": "1tVFNIPLUGG0"
   },
   "source": [
    "## Fingerprinting scripts observed only on Login Signup Pages"
   ]
  },
  {
   "cell_type": "code",
   "execution_count": 92,
   "metadata": {
    "id": "aDvbh6YqULeZ"
   },
   "outputs": [],
   "source": [
    "fp_signup_login_fp_script_domains = set(fp_signup_login_df[fp_signup_login_df.script_domain!=fp_signup_login_df.site_domain].script_domain.unique())"
   ]
  },
  {
   "cell_type": "code",
   "execution_count": 93,
   "metadata": {
    "id": "eMcWqbZjU5ao"
   },
   "outputs": [],
   "source": [
    "fp_non_signup_login_df = fps_attempts_df[(~fps_attempts_df.final_url.isin(crawl_resuls_df[crawl_resuls_df.ml_signup].final_url.unique()))&(~fps_attempts_df.final_url.isin(crawl_resuls_df[crawl_resuls_df.ml_login].final_url.unique()))]"
   ]
  },
  {
   "cell_type": "code",
   "execution_count": 94,
   "metadata": {
    "id": "dc2HgOpmUSQU"
   },
   "outputs": [],
   "source": [
    "fp_non_signup_login_fp_script_domains = set(fp_non_signup_login_df[fp_non_signup_login_df.script_domain!=fp_non_signup_login_df.site_domain].script_domain.unique())"
   ]
  },
  {
   "cell_type": "code",
   "execution_count": 95,
   "metadata": {
    "id": "rMHNI5_qVX04"
   },
   "outputs": [],
   "source": [
    "domain_difference_set = fp_signup_login_fp_script_domains.difference(fp_non_signup_login_fp_script_domains)"
   ]
  },
  {
   "cell_type": "code",
   "execution_count": 96,
   "metadata": {
    "id": "qwLLtOLhVYD1"
   },
   "outputs": [
    {
     "data": {
      "text/plain": [
       "betfair.com                      216\n",
       "intuit.com                       114\n",
       "fjfdadfdfcibgbjaadf.world         97\n",
       "g-system.io                       28\n",
       "bpsgameserver.com                 28\n",
       "mlcdn.com.br                      28\n",
       "llnwd.net                         24\n",
       "bstatic.com                       21\n",
       "d19rpgkrjeba2z.cloudfront.net     20\n",
       "parastorage.com                   19\n",
       "bankofamerica.com                 19\n",
       "ipqualityscore.com                18\n",
       "ebay-kleinanzeigen.de             16\n",
       "wklcdn.com                        16\n",
       "d2ygi9hnn4h2ig.cloudfront.net     14\n",
       "synchrony.com                     13\n",
       "cudasvc.com                       12\n",
       "d3963xbd3am46w.cloudfront.net     10\n",
       "plugcrm.net                       10\n",
       "redditstatic.com                   9\n",
       "Name: script_domain, dtype: int64"
      ]
     },
     "execution_count": 96,
     "metadata": {},
     "output_type": "execute_result"
    }
   ],
   "source": [
    "fp_signup_login_df[fp_signup_login_df.script_domain.isin(domain_difference_set)].script_domain.value_counts().head(20)"
   ]
  },
  {
   "cell_type": "code",
   "execution_count": 97,
   "metadata": {
    "id": "KWY19Owx1MRB"
   },
   "outputs": [
    {
     "data": {
      "text/html": [
       "<div>\n",
       "<style scoped>\n",
       "    .dataframe tbody tr th:only-of-type {\n",
       "        vertical-align: middle;\n",
       "    }\n",
       "\n",
       "    .dataframe tbody tr th {\n",
       "        vertical-align: top;\n",
       "    }\n",
       "\n",
       "    .dataframe thead th {\n",
       "        text-align: right;\n",
       "    }\n",
       "</style>\n",
       "<table border=\"1\" class=\"dataframe\">\n",
       "  <thead>\n",
       "    <tr style=\"text-align: right;\">\n",
       "      <th></th>\n",
       "      <th>Unnamed: 0</th>\n",
       "      <th>script_url</th>\n",
       "      <th>fp_type</th>\n",
       "      <th>initial_url</th>\n",
       "      <th>final_url</th>\n",
       "      <th>site_domain</th>\n",
       "      <th>is_homepage</th>\n",
       "      <th>is_innerpage</th>\n",
       "      <th>script_domain</th>\n",
       "      <th>description</th>\n",
       "      <th>access_type</th>\n",
       "      <th>arguments</th>\n",
       "      <th>frameUrl</th>\n",
       "      <th>return_value</th>\n",
       "      <th>is_third_party</th>\n",
       "      <th>tracker_categories</th>\n",
       "      <th>tracker_owner</th>\n",
       "      <th>is_tracker</th>\n",
       "      <th>hostname</th>\n",
       "    </tr>\n",
       "  </thead>\n",
       "  <tbody>\n",
       "    <tr>\n",
       "      <th>276</th>\n",
       "      <td>276</td>\n",
       "      <td>https://franecki.net/point/?method=fp2js</td>\n",
       "      <td>audio_context</td>\n",
       "      <td>https://gidonline.fun/genre/uzhasy/index.html</td>\n",
       "      <td>https://gidonline.fun/genre/uzhasy/</td>\n",
       "      <td>gidonline.fun</td>\n",
       "      <td>False</td>\n",
       "      <td>True</td>\n",
       "      <td>franecki.net</td>\n",
       "      <td>NaN</td>\n",
       "      <td>NaN</td>\n",
       "      <td>NaN</td>\n",
       "      <td>NaN</td>\n",
       "      <td>NaN</td>\n",
       "      <td>True</td>\n",
       "      <td>NaN</td>\n",
       "      <td>NaN</td>\n",
       "      <td>1</td>\n",
       "      <td>gidonline.fun</td>\n",
       "    </tr>\n",
       "    <tr>\n",
       "      <th>277</th>\n",
       "      <td>277</td>\n",
       "      <td>https://franecki.net/js/lib.js</td>\n",
       "      <td>canvas</td>\n",
       "      <td>https://gidonline.fun/genre/uzhasy/index.html</td>\n",
       "      <td>https://gidonline.fun/genre/uzhasy/</td>\n",
       "      <td>gidonline.fun</td>\n",
       "      <td>False</td>\n",
       "      <td>True</td>\n",
       "      <td>franecki.net</td>\n",
       "      <td>NaN</td>\n",
       "      <td>NaN</td>\n",
       "      <td>NaN</td>\n",
       "      <td>NaN</td>\n",
       "      <td>NaN</td>\n",
       "      <td>True</td>\n",
       "      <td>NaN</td>\n",
       "      <td>NaN</td>\n",
       "      <td>1</td>\n",
       "      <td>gidonline.fun</td>\n",
       "    </tr>\n",
       "    <tr>\n",
       "      <th>278</th>\n",
       "      <td>278</td>\n",
       "      <td>https://franecki.net/point/?method=fp2js</td>\n",
       "      <td>canvas</td>\n",
       "      <td>https://gidonline.fun/genre/uzhasy/index.html</td>\n",
       "      <td>https://gidonline.fun/genre/uzhasy/</td>\n",
       "      <td>gidonline.fun</td>\n",
       "      <td>False</td>\n",
       "      <td>True</td>\n",
       "      <td>franecki.net</td>\n",
       "      <td>NaN</td>\n",
       "      <td>NaN</td>\n",
       "      <td>NaN</td>\n",
       "      <td>NaN</td>\n",
       "      <td>NaN</td>\n",
       "      <td>True</td>\n",
       "      <td>NaN</td>\n",
       "      <td>NaN</td>\n",
       "      <td>1</td>\n",
       "      <td>gidonline.fun</td>\n",
       "    </tr>\n",
       "    <tr>\n",
       "      <th>366</th>\n",
       "      <td>366</td>\n",
       "      <td>https://franecki.net/point/?method=fp2js</td>\n",
       "      <td>audio_context</td>\n",
       "      <td>https://friends.in.ua/divchatka</td>\n",
       "      <td>https://friends.in.ua/divchatka/</td>\n",
       "      <td>friends.in.ua</td>\n",
       "      <td>False</td>\n",
       "      <td>True</td>\n",
       "      <td>franecki.net</td>\n",
       "      <td>NaN</td>\n",
       "      <td>NaN</td>\n",
       "      <td>NaN</td>\n",
       "      <td>NaN</td>\n",
       "      <td>NaN</td>\n",
       "      <td>True</td>\n",
       "      <td>NaN</td>\n",
       "      <td>NaN</td>\n",
       "      <td>1</td>\n",
       "      <td>friends.in.ua</td>\n",
       "    </tr>\n",
       "    <tr>\n",
       "      <th>367</th>\n",
       "      <td>367</td>\n",
       "      <td>https://franecki.net/js/lib.js</td>\n",
       "      <td>canvas</td>\n",
       "      <td>https://friends.in.ua/divchatka</td>\n",
       "      <td>https://friends.in.ua/divchatka/</td>\n",
       "      <td>friends.in.ua</td>\n",
       "      <td>False</td>\n",
       "      <td>True</td>\n",
       "      <td>franecki.net</td>\n",
       "      <td>NaN</td>\n",
       "      <td>NaN</td>\n",
       "      <td>NaN</td>\n",
       "      <td>NaN</td>\n",
       "      <td>NaN</td>\n",
       "      <td>True</td>\n",
       "      <td>NaN</td>\n",
       "      <td>NaN</td>\n",
       "      <td>1</td>\n",
       "      <td>friends.in.ua</td>\n",
       "    </tr>\n",
       "    <tr>\n",
       "      <th>...</th>\n",
       "      <td>...</td>\n",
       "      <td>...</td>\n",
       "      <td>...</td>\n",
       "      <td>...</td>\n",
       "      <td>...</td>\n",
       "      <td>...</td>\n",
       "      <td>...</td>\n",
       "      <td>...</td>\n",
       "      <td>...</td>\n",
       "      <td>...</td>\n",
       "      <td>...</td>\n",
       "      <td>...</td>\n",
       "      <td>...</td>\n",
       "      <td>...</td>\n",
       "      <td>...</td>\n",
       "      <td>...</td>\n",
       "      <td>...</td>\n",
       "      <td>...</td>\n",
       "      <td>...</td>\n",
       "    </tr>\n",
       "    <tr>\n",
       "      <th>99982</th>\n",
       "      <td>99982</td>\n",
       "      <td>https://franecki.net/point/?method=fp2js</td>\n",
       "      <td>canvas</td>\n",
       "      <td>http://moviestape.net/</td>\n",
       "      <td>http://moviestape.net/</td>\n",
       "      <td>moviestape.net</td>\n",
       "      <td>True</td>\n",
       "      <td>False</td>\n",
       "      <td>franecki.net</td>\n",
       "      <td>NaN</td>\n",
       "      <td>NaN</td>\n",
       "      <td>NaN</td>\n",
       "      <td>NaN</td>\n",
       "      <td>NaN</td>\n",
       "      <td>True</td>\n",
       "      <td>NaN</td>\n",
       "      <td>NaN</td>\n",
       "      <td>1</td>\n",
       "      <td>moviestape.net</td>\n",
       "    </tr>\n",
       "    <tr>\n",
       "      <th>100665</th>\n",
       "      <td>100665</td>\n",
       "      <td>https://franecki.net/point/?method=fp2js</td>\n",
       "      <td>audio_context</td>\n",
       "      <td>http://tnt-hub.com/</td>\n",
       "      <td>http://tnt-hub.com/</td>\n",
       "      <td>tnt-hub.com</td>\n",
       "      <td>True</td>\n",
       "      <td>False</td>\n",
       "      <td>franecki.net</td>\n",
       "      <td>NaN</td>\n",
       "      <td>NaN</td>\n",
       "      <td>NaN</td>\n",
       "      <td>NaN</td>\n",
       "      <td>NaN</td>\n",
       "      <td>True</td>\n",
       "      <td>NaN</td>\n",
       "      <td>NaN</td>\n",
       "      <td>1</td>\n",
       "      <td>tnt-hub.com</td>\n",
       "    </tr>\n",
       "    <tr>\n",
       "      <th>100666</th>\n",
       "      <td>100666</td>\n",
       "      <td>http://franecki.net/js/lib.js</td>\n",
       "      <td>canvas</td>\n",
       "      <td>http://tnt-hub.com/</td>\n",
       "      <td>http://tnt-hub.com/</td>\n",
       "      <td>tnt-hub.com</td>\n",
       "      <td>True</td>\n",
       "      <td>False</td>\n",
       "      <td>franecki.net</td>\n",
       "      <td>NaN</td>\n",
       "      <td>NaN</td>\n",
       "      <td>NaN</td>\n",
       "      <td>NaN</td>\n",
       "      <td>NaN</td>\n",
       "      <td>True</td>\n",
       "      <td>NaN</td>\n",
       "      <td>NaN</td>\n",
       "      <td>1</td>\n",
       "      <td>tnt-hub.com</td>\n",
       "    </tr>\n",
       "    <tr>\n",
       "      <th>100667</th>\n",
       "      <td>100667</td>\n",
       "      <td>https://franecki.net/point/?method=fp2js</td>\n",
       "      <td>canvas</td>\n",
       "      <td>http://tnt-hub.com/</td>\n",
       "      <td>http://tnt-hub.com/</td>\n",
       "      <td>tnt-hub.com</td>\n",
       "      <td>True</td>\n",
       "      <td>False</td>\n",
       "      <td>franecki.net</td>\n",
       "      <td>NaN</td>\n",
       "      <td>NaN</td>\n",
       "      <td>NaN</td>\n",
       "      <td>NaN</td>\n",
       "      <td>NaN</td>\n",
       "      <td>True</td>\n",
       "      <td>NaN</td>\n",
       "      <td>NaN</td>\n",
       "      <td>1</td>\n",
       "      <td>tnt-hub.com</td>\n",
       "    </tr>\n",
       "    <tr>\n",
       "      <th>100668</th>\n",
       "      <td>100668</td>\n",
       "      <td>http://franecki.net/js/lib.js?no_dmp=1</td>\n",
       "      <td>canvas</td>\n",
       "      <td>http://tnt-hub.com/</td>\n",
       "      <td>http://tnt-hub.com/</td>\n",
       "      <td>tnt-hub.com</td>\n",
       "      <td>True</td>\n",
       "      <td>False</td>\n",
       "      <td>franecki.net</td>\n",
       "      <td>NaN</td>\n",
       "      <td>NaN</td>\n",
       "      <td>NaN</td>\n",
       "      <td>NaN</td>\n",
       "      <td>NaN</td>\n",
       "      <td>True</td>\n",
       "      <td>NaN</td>\n",
       "      <td>NaN</td>\n",
       "      <td>1</td>\n",
       "      <td>tnt-hub.com</td>\n",
       "    </tr>\n",
       "  </tbody>\n",
       "</table>\n",
       "<p>836 rows × 19 columns</p>\n",
       "</div>"
      ],
      "text/plain": [
       "        Unnamed: 0                                script_url        fp_type  \\\n",
       "276            276  https://franecki.net/point/?method=fp2js  audio_context   \n",
       "277            277            https://franecki.net/js/lib.js         canvas   \n",
       "278            278  https://franecki.net/point/?method=fp2js         canvas   \n",
       "366            366  https://franecki.net/point/?method=fp2js  audio_context   \n",
       "367            367            https://franecki.net/js/lib.js         canvas   \n",
       "...            ...                                       ...            ...   \n",
       "99982        99982  https://franecki.net/point/?method=fp2js         canvas   \n",
       "100665      100665  https://franecki.net/point/?method=fp2js  audio_context   \n",
       "100666      100666             http://franecki.net/js/lib.js         canvas   \n",
       "100667      100667  https://franecki.net/point/?method=fp2js         canvas   \n",
       "100668      100668    http://franecki.net/js/lib.js?no_dmp=1         canvas   \n",
       "\n",
       "                                          initial_url  \\\n",
       "276     https://gidonline.fun/genre/uzhasy/index.html   \n",
       "277     https://gidonline.fun/genre/uzhasy/index.html   \n",
       "278     https://gidonline.fun/genre/uzhasy/index.html   \n",
       "366                   https://friends.in.ua/divchatka   \n",
       "367                   https://friends.in.ua/divchatka   \n",
       "...                                               ...   \n",
       "99982                          http://moviestape.net/   \n",
       "100665                            http://tnt-hub.com/   \n",
       "100666                            http://tnt-hub.com/   \n",
       "100667                            http://tnt-hub.com/   \n",
       "100668                            http://tnt-hub.com/   \n",
       "\n",
       "                                  final_url     site_domain  is_homepage  \\\n",
       "276     https://gidonline.fun/genre/uzhasy/   gidonline.fun        False   \n",
       "277     https://gidonline.fun/genre/uzhasy/   gidonline.fun        False   \n",
       "278     https://gidonline.fun/genre/uzhasy/   gidonline.fun        False   \n",
       "366        https://friends.in.ua/divchatka/   friends.in.ua        False   \n",
       "367        https://friends.in.ua/divchatka/   friends.in.ua        False   \n",
       "...                                     ...             ...          ...   \n",
       "99982                http://moviestape.net/  moviestape.net         True   \n",
       "100665                  http://tnt-hub.com/     tnt-hub.com         True   \n",
       "100666                  http://tnt-hub.com/     tnt-hub.com         True   \n",
       "100667                  http://tnt-hub.com/     tnt-hub.com         True   \n",
       "100668                  http://tnt-hub.com/     tnt-hub.com         True   \n",
       "\n",
       "        is_innerpage script_domain description access_type arguments  \\\n",
       "276             True  franecki.net         NaN         NaN       NaN   \n",
       "277             True  franecki.net         NaN         NaN       NaN   \n",
       "278             True  franecki.net         NaN         NaN       NaN   \n",
       "366             True  franecki.net         NaN         NaN       NaN   \n",
       "367             True  franecki.net         NaN         NaN       NaN   \n",
       "...              ...           ...         ...         ...       ...   \n",
       "99982          False  franecki.net         NaN         NaN       NaN   \n",
       "100665         False  franecki.net         NaN         NaN       NaN   \n",
       "100666         False  franecki.net         NaN         NaN       NaN   \n",
       "100667         False  franecki.net         NaN         NaN       NaN   \n",
       "100668         False  franecki.net         NaN         NaN       NaN   \n",
       "\n",
       "        frameUrl return_value  is_third_party tracker_categories  \\\n",
       "276          NaN          NaN            True                NaN   \n",
       "277          NaN          NaN            True                NaN   \n",
       "278          NaN          NaN            True                NaN   \n",
       "366          NaN          NaN            True                NaN   \n",
       "367          NaN          NaN            True                NaN   \n",
       "...          ...          ...             ...                ...   \n",
       "99982        NaN          NaN            True                NaN   \n",
       "100665       NaN          NaN            True                NaN   \n",
       "100666       NaN          NaN            True                NaN   \n",
       "100667       NaN          NaN            True                NaN   \n",
       "100668       NaN          NaN            True                NaN   \n",
       "\n",
       "       tracker_owner  is_tracker        hostname  \n",
       "276              NaN           1   gidonline.fun  \n",
       "277              NaN           1   gidonline.fun  \n",
       "278              NaN           1   gidonline.fun  \n",
       "366              NaN           1   friends.in.ua  \n",
       "367              NaN           1   friends.in.ua  \n",
       "...              ...         ...             ...  \n",
       "99982            NaN           1  moviestape.net  \n",
       "100665           NaN           1     tnt-hub.com  \n",
       "100666           NaN           1     tnt-hub.com  \n",
       "100667           NaN           1     tnt-hub.com  \n",
       "100668           NaN           1     tnt-hub.com  \n",
       "\n",
       "[836 rows x 19 columns]"
      ]
     },
     "execution_count": 97,
     "metadata": {},
     "output_type": "execute_result"
    }
   ],
   "source": [
    "fps_attempts_df[fps_attempts_df.script_domain=='franecki.net']"
   ]
  },
  {
   "cell_type": "markdown",
   "metadata": {
    "id": "XDbEsCBovz4Q"
   },
   "source": [
    "## Most Popular FP APIs\n",
    "\n",
    "For login/signup/home pages that perform fingerprinting, which APIs are commonly used?"
   ]
  },
  {
   "cell_type": "code",
   "execution_count": 98,
   "metadata": {
    "colab": {
     "base_uri": "https://localhost:8080/"
    },
    "executionInfo": {
     "elapsed": 183,
     "status": "ok",
     "timestamp": 1696889683405,
     "user": {
      "displayName": "Alisha Ukani",
      "userId": "07133445635502183845"
     },
     "user_tz": 420
    },
    "id": "Ioa74lhHomwm",
    "outputId": "43e60f0f-d61c-4f2e-902b-718b8b855b18"
   },
   "outputs": [
    {
     "data": {
      "text/plain": [
       "canvas           2954\n",
       "audio_context    1283\n",
       "webrtc            718\n",
       "canvas_font       333\n",
       "Name: fp_type, dtype: int64"
      ]
     },
     "execution_count": 98,
     "metadata": {},
     "output_type": "execute_result"
    }
   ],
   "source": [
    "fp_login_api_counts = fp_login_df.drop_duplicates(subset=['fp_type', 'hostname']).fp_type.value_counts()\n",
    "fp_login_api_counts"
   ]
  },
  {
   "cell_type": "code",
   "execution_count": 99,
   "metadata": {
    "colab": {
     "base_uri": "https://localhost:8080/"
    },
    "executionInfo": {
     "elapsed": 141,
     "status": "ok",
     "timestamp": 1696632906530,
     "user": {
      "displayName": "Alisha Ukani",
      "userId": "07133445635502183845"
     },
     "user_tz": 420
    },
    "id": "vbMC4k12xdvr",
    "outputId": "c108e0e6-5187-444c-d380-1dd77f235fb1"
   },
   "outputs": [
    {
     "data": {
      "text/plain": [
       "canvas           60.632184\n",
       "audio_context    26.334154\n",
       "webrtc           14.737274\n",
       "canvas_font       6.834975\n",
       "Name: fp_type, dtype: float64"
      ]
     },
     "execution_count": 99,
     "metadata": {},
     "output_type": "execute_result"
    }
   ],
   "source": [
    "# Percent of login sites that perform each type of fingerprinting\n",
    "fp_login_api_pct = 100 * fp_login_api_counts / fp_login_df.final_url.nunique()\n",
    "fp_login_api_pct"
   ]
  },
  {
   "cell_type": "code",
   "execution_count": 100,
   "metadata": {
    "colab": {
     "base_uri": "https://localhost:8080/"
    },
    "executionInfo": {
     "elapsed": 156,
     "status": "ok",
     "timestamp": 1696632908254,
     "user": {
      "displayName": "Alisha Ukani",
      "userId": "07133445635502183845"
     },
     "user_tz": 420
    },
    "id": "U_yRXk8txRKJ",
    "outputId": "f206a013-9f38-4b88-ab5c-e873857ffa56"
   },
   "outputs": [
    {
     "data": {
      "text/plain": [
       "canvas           1635\n",
       "audio_context     809\n",
       "webrtc            335\n",
       "canvas_font       114\n",
       "Name: fp_type, dtype: int64"
      ]
     },
     "execution_count": 100,
     "metadata": {},
     "output_type": "execute_result"
    }
   ],
   "source": [
    "fp_signup_api_counts = fp_signup_df.drop_duplicates(subset=['fp_type', 'hostname']).fp_type.value_counts()\n",
    "fp_signup_api_counts"
   ]
  },
  {
   "cell_type": "code",
   "execution_count": 101,
   "metadata": {
    "colab": {
     "base_uri": "https://localhost:8080/"
    },
    "executionInfo": {
     "elapsed": 213,
     "status": "ok",
     "timestamp": 1696632909727,
     "user": {
      "displayName": "Alisha Ukani",
      "userId": "07133445635502183845"
     },
     "user_tz": 420
    },
    "id": "A8jBhpRTxvaz",
    "outputId": "1b88ad77-383a-4469-d444-f7dc493a1234"
   },
   "outputs": [
    {
     "data": {
      "text/plain": [
       "canvas           59.736938\n",
       "audio_context    29.557910\n",
       "webrtc           12.239678\n",
       "canvas_font       4.165144\n",
       "Name: fp_type, dtype: float64"
      ]
     },
     "execution_count": 101,
     "metadata": {},
     "output_type": "execute_result"
    }
   ],
   "source": [
    "# Percent of signup sites that perform each type of fingerprinting\n",
    "fp_signup_api_pct = 100 * fp_signup_api_counts / fp_signup_df.final_url.nunique()\n",
    "fp_signup_api_pct"
   ]
  },
  {
   "cell_type": "code",
   "execution_count": 102,
   "metadata": {
    "colab": {
     "base_uri": "https://localhost:8080/"
    },
    "executionInfo": {
     "elapsed": 971,
     "status": "ok",
     "timestamp": 1696895190720,
     "user": {
      "displayName": "Alisha Ukani",
      "userId": "07133445635502183845"
     },
     "user_tz": 420
    },
    "id": "yrCySYk5M7zk",
    "outputId": "60e261db-6eda-4eeb-ba7d-520d1264f203"
   },
   "outputs": [
    {
     "name": "stdout",
     "output_type": "stream",
     "text": [
      "canvas\n",
      "Ttest_indResult(statistic=-11.52579741705067, pvalue=1.0382987314690072e-30)\n",
      "For canvas, login and sign-up pages have significantly different frequencies\n",
      "audio_context\n",
      "Ttest_indResult(statistic=-10.691168740551179, pvalue=1.170323329227694e-26)\n",
      "For audio_context, login and sign-up pages have significantly different frequencies\n",
      "webrtc\n",
      "Ttest_indResult(statistic=-3.1847106540100514, pvalue=0.0014495820138174314)\n",
      "For webrtc, login and sign-up pages have significantly different frequencies\n",
      "canvas_font\n",
      "Ttest_indResult(statistic=0.5906163718447589, pvalue=0.5547792773213118)\n",
      "No significant difference between login and sign-up for canvas_font\n",
      "\n",
      "\n"
     ]
    }
   ],
   "source": [
    "# Significant difference between login and signup?\n",
    "all_login = pd.DataFrame(crawl_resuls_df[(crawl_resuls_df.ml_login) & ~(crawl_resuls_df.ml_signup)].final_url.unique(), columns=['final_url'])\n",
    "all_signup = pd.DataFrame(crawl_resuls_df[(crawl_resuls_df.ml_signup) & ~(crawl_resuls_df.ml_login)].final_url.unique(), columns=['final_url'])\n",
    "fp_types = ['canvas', 'audio_context', 'webrtc', 'canvas_font']\n",
    "\n",
    "for fp_type in fp_types:\n",
    "    print(fp_type)\n",
    "    login_fp_type = fp_login_df[fp_login_df['fp_type'] == fp_type].drop_duplicates(subset=['final_url'])\n",
    "    login_fp_type_merged = all_login.merge(login_fp_type, how='left', on='final_url', indicator=True)\n",
    "    does_login_perform_fp_type = login_fp_type_merged['_merge'] == 'both'\n",
    "    does_login_perform_fp_type = does_login_perform_fp_type.astype(int)\n",
    "\n",
    "    signup_fp_type = fp_signup_df[fp_signup_df['fp_type'] == fp_type].drop_duplicates(subset=['final_url'])\n",
    "    signup_fp_type_merged = all_signup.merge(signup_fp_type, how='left', on='final_url', indicator=True)\n",
    "    does_signup_perform_fp_type = signup_fp_type_merged['_merge'] == 'both'\n",
    "    does_signup_perform_fp_type = does_signup_perform_fp_type.astype(int)\n",
    "\n",
    "    res = ttest_ind(does_login_perform_fp_type, does_signup_perform_fp_type)\n",
    "    print(res)\n",
    "    if res.pvalue < 0.05:\n",
    "        print(f\"For {fp_type}, login and sign-up pages have significantly different frequencies\")\n",
    "    else:\n",
    "        print(f\"No significant difference between login and sign-up for {fp_type}\")\n",
    "        print(\"\\n\")"
   ]
  },
  {
   "cell_type": "code",
   "execution_count": 103,
   "metadata": {
    "colab": {
     "base_uri": "https://localhost:8080/"
    },
    "executionInfo": {
     "elapsed": 125,
     "status": "ok",
     "timestamp": 1696630583476,
     "user": {
      "displayName": "Alisha Ukani",
      "userId": "07133445635502183845"
     },
     "user_tz": 420
    },
    "id": "oYOUUC5LxWQr",
    "outputId": "b95050ba-acca-46a7-bf2f-80557f9cd5c5"
   },
   "outputs": [
    {
     "data": {
      "text/plain": [
       "canvas           7510\n",
       "audio_context    3668\n",
       "webrtc           1603\n",
       "canvas_font       603\n",
       "Name: fp_type, dtype: int64"
      ]
     },
     "execution_count": 103,
     "metadata": {},
     "output_type": "execute_result"
    }
   ],
   "source": [
    "fp_homepages_api_counts = fp_homepages_df.drop_duplicates(subset=['fp_type', 'hostname']).fp_type.value_counts()\n",
    "fp_homepages_api_counts"
   ]
  },
  {
   "cell_type": "code",
   "execution_count": 104,
   "metadata": {
    "colab": {
     "base_uri": "https://localhost:8080/"
    },
    "executionInfo": {
     "elapsed": 128,
     "status": "ok",
     "timestamp": 1696630584787,
     "user": {
      "displayName": "Alisha Ukani",
      "userId": "07133445635502183845"
     },
     "user_tz": 420
    },
    "id": "-_27nNk7x3fq",
    "outputId": "7d7c91a2-7c3b-4629-fccc-a1866138dc8f"
   },
   "outputs": [
    {
     "data": {
      "text/plain": [
       "canvas           93.095327\n",
       "audio_context    45.469195\n",
       "webrtc           19.871080\n",
       "canvas_font       7.474898\n",
       "Name: fp_type, dtype: float64"
      ]
     },
     "execution_count": 104,
     "metadata": {},
     "output_type": "execute_result"
    }
   ],
   "source": [
    "# Percent of homepages that perform each type of fingerprinting\n",
    "fp_homepages_api_pct = 100 * fp_homepages_api_counts / fp_homepages_df.final_url.nunique()\n",
    "fp_homepages_api_pct"
   ]
  },
  {
   "cell_type": "code",
   "execution_count": 105,
   "metadata": {
    "id": "zx2h4QdTyVHG"
   },
   "outputs": [
    {
     "data": {
      "text/html": [
       "<div>\n",
       "<style scoped>\n",
       "    .dataframe tbody tr th:only-of-type {\n",
       "        vertical-align: middle;\n",
       "    }\n",
       "\n",
       "    .dataframe tbody tr th {\n",
       "        vertical-align: top;\n",
       "    }\n",
       "\n",
       "    .dataframe thead th {\n",
       "        text-align: right;\n",
       "    }\n",
       "</style>\n",
       "<table border=\"1\" class=\"dataframe\">\n",
       "  <thead>\n",
       "    <tr style=\"text-align: right;\">\n",
       "      <th></th>\n",
       "      <th>Canvas</th>\n",
       "      <th>AudioContext</th>\n",
       "      <th>WebRTC</th>\n",
       "      <th>Canvas Font</th>\n",
       "    </tr>\n",
       "  </thead>\n",
       "  <tbody>\n",
       "    <tr>\n",
       "      <th>Login</th>\n",
       "      <td>60.632184</td>\n",
       "      <td>26.334154</td>\n",
       "      <td>14.737274</td>\n",
       "      <td>6.834975</td>\n",
       "    </tr>\n",
       "    <tr>\n",
       "      <th>Sign-Up</th>\n",
       "      <td>59.736938</td>\n",
       "      <td>29.557910</td>\n",
       "      <td>12.239678</td>\n",
       "      <td>4.165144</td>\n",
       "    </tr>\n",
       "    <tr>\n",
       "      <th>Home</th>\n",
       "      <td>93.095327</td>\n",
       "      <td>45.469195</td>\n",
       "      <td>19.871080</td>\n",
       "      <td>7.474898</td>\n",
       "    </tr>\n",
       "  </tbody>\n",
       "</table>\n",
       "</div>"
      ],
      "text/plain": [
       "            Canvas  AudioContext     WebRTC  Canvas Font\n",
       "Login    60.632184     26.334154  14.737274     6.834975\n",
       "Sign-Up  59.736938     29.557910  12.239678     4.165144\n",
       "Home     93.095327     45.469195  19.871080     7.474898"
      ]
     },
     "execution_count": 105,
     "metadata": {},
     "output_type": "execute_result"
    }
   ],
   "source": [
    "fp_api_pct_df = pd.concat([fp_login_api_pct, fp_signup_api_pct, fp_homepages_api_pct], axis=1, keys=[\"Login\", \"Sign-Up\", \"Home\"]).T\n",
    "fp_api_pct_df = fp_api_pct_df.rename(columns={\"canvas\": \"Canvas\", \"audio_context\": \"AudioContext\", \"webrtc\": \"WebRTC\", \"canvas_font\": \"Canvas Font\"})\n",
    "fp_api_pct_df.head()"
   ]
  },
  {
   "cell_type": "code",
   "execution_count": 106,
   "metadata": {
    "id": "wDW_vRqD0TT4"
   },
   "outputs": [
    {
     "data": {
      "image/png": "[encoded data removed]",
      "text/plain": [
       "<Figure size 432x288 with 1 Axes>"
      ]
     },
     "metadata": {
      "needs_background": "light"
     },
     "output_type": "display_data"
    }
   ],
   "source": [
    "ax = fp_api_pct_df.plot.bar()\n",
    "ax.set_ylabel(\"Percent of Pages that Fingerprint\")\n",
    "plt.xticks(rotation=0)\n",
    "plt.tight_layout()\n",
    "plt.savefig(\"api_count_by_page_type.png\",\n",
    "            format=\"png\",\n",
    "            bbox_inches=\"tight\")\n",
    "plt.savefig(\"plots/api_count_by_page_type.pdf\",\n",
    "            format=\"pdf\",\n",
    "            bbox_inches=\"tight\")"
   ]
  }
 ],
 "metadata": {
  "colab": {
   "provenance": [],
   "toc_visible": true
  },
  "kernelspec": {
   "display_name": "Python 3",
   "language": "python",
   "name": "python3"
  },
  "language_info": {
   "codemirror_mode": {
    "name": "ipython",
    "version": 3
   },
   "file_extension": ".py",
   "mimetype": "text/x-python",
   "name": "python",
   "nbconvert_exporter": "python",
   "pygments_lexer": "ipython3",
   "version": "3.8.10"
  }
 },
 "nbformat": 4,
 "nbformat_minor": 1
}
